{
 "cells": [
  {
   "cell_type": "code",
   "execution_count": 5,
   "metadata": {},
   "outputs": [],
   "source": [
    "%matplotlib inline\n",
    "import pandas as pd\n",
    "import seaborn as sns\n"
   ]
  },
  {
   "cell_type": "code",
   "execution_count": 6,
   "metadata": {},
   "outputs": [],
   "source": [
    "prosecutors = pd.read_csv(\"../data/BarrResign.csv\")"
   ]
  },
  {
   "cell_type": "code",
   "execution_count": 7,
   "metadata": {
    "collapsed": false,
    "jupyter": {
     "outputs_hidden": false
    }
   },
   "outputs": [
    {
     "data": {
      "text/html": [
       "<div>\n",
       "<style scoped>\n",
       "    .dataframe tbody tr th:only-of-type {\n",
       "        vertical-align: middle;\n",
       "    }\n",
       "\n",
       "    .dataframe tbody tr th {\n",
       "        vertical-align: top;\n",
       "    }\n",
       "\n",
       "    .dataframe thead th {\n",
       "        text-align: right;\n",
       "    }\n",
       "</style>\n",
       "<table border=\"1\" class=\"dataframe\">\n",
       "  <thead>\n",
       "    <tr style=\"text-align: right;\">\n",
       "      <th></th>\n",
       "      <th>First name</th>\n",
       "      <th>Last name</th>\n",
       "      <th>Highest DOJ title</th>\n",
       "      <th># years DOJ service</th>\n",
       "      <th>Admins served under</th>\n",
       "    </tr>\n",
       "  </thead>\n",
       "  <tbody>\n",
       "    <tr>\n",
       "      <td>0</td>\n",
       "      <td>Kathleen</td>\n",
       "      <td>(Kaczmarek) Mehltretter</td>\n",
       "      <td>United States Attorney for the Western Distric...</td>\n",
       "      <td>32.0</td>\n",
       "      <td>Obama, Bush II, Clinton, Bush I, Reagan, Carter</td>\n",
       "    </tr>\n",
       "    <tr>\n",
       "      <td>1</td>\n",
       "      <td>Dianne</td>\n",
       "      <td>(Kelly) Sanford</td>\n",
       "      <td>Assistant United States Attorney (D.C.); Assis...</td>\n",
       "      <td>13.0</td>\n",
       "      <td>Bush I, Reagan, Carter</td>\n",
       "    </tr>\n",
       "    <tr>\n",
       "      <td>2</td>\n",
       "      <td>Stephanie</td>\n",
       "      <td>(Lachman) Golden</td>\n",
       "      <td>Trial Attorney</td>\n",
       "      <td>10.0</td>\n",
       "      <td>Reagan, Carter, Ford</td>\n",
       "    </tr>\n",
       "    <tr>\n",
       "      <td>3</td>\n",
       "      <td>Erin</td>\n",
       "      <td>(Powell) Vespe</td>\n",
       "      <td>Trial Attorney</td>\n",
       "      <td>4.5</td>\n",
       "      <td>Bush II, Clinton</td>\n",
       "    </tr>\n",
       "    <tr>\n",
       "      <td>4</td>\n",
       "      <td>Julie</td>\n",
       "      <td>Abbate</td>\n",
       "      <td>Deputy Chief, Special Litigation Section, Civi...</td>\n",
       "      <td>15.0</td>\n",
       "      <td>Trump, Obama, Bush II</td>\n",
       "    </tr>\n",
       "  </tbody>\n",
       "</table>\n",
       "</div>"
      ],
      "text/plain": [
       "  First name                Last name  \\\n",
       "0   Kathleen  (Kaczmarek) Mehltretter   \n",
       "1     Dianne          (Kelly) Sanford   \n",
       "2  Stephanie         (Lachman) Golden   \n",
       "3       Erin           (Powell) Vespe   \n",
       "4      Julie                   Abbate   \n",
       "\n",
       "                                   Highest DOJ title  # years DOJ service  \\\n",
       "0  United States Attorney for the Western Distric...                 32.0   \n",
       "1  Assistant United States Attorney (D.C.); Assis...                 13.0   \n",
       "2                                     Trial Attorney                 10.0   \n",
       "3                                     Trial Attorney                  4.5   \n",
       "4  Deputy Chief, Special Litigation Section, Civi...                 15.0   \n",
       "\n",
       "                               Admins served under  \n",
       "0  Obama, Bush II, Clinton, Bush I, Reagan, Carter  \n",
       "1                           Bush I, Reagan, Carter  \n",
       "2                             Reagan, Carter, Ford  \n",
       "3                                 Bush II, Clinton  \n",
       "4                            Trump, Obama, Bush II  "
      ]
     },
     "execution_count": 7,
     "metadata": {},
     "output_type": "execute_result"
    }
   ],
   "source": [
    "prosecutors.head()"
   ]
  },
  {
   "cell_type": "code",
   "execution_count": 8,
   "metadata": {},
   "outputs": [
    {
     "data": {
      "text/html": [
       "<div>\n",
       "<style scoped>\n",
       "    .dataframe tbody tr th:only-of-type {\n",
       "        vertical-align: middle;\n",
       "    }\n",
       "\n",
       "    .dataframe tbody tr th {\n",
       "        vertical-align: top;\n",
       "    }\n",
       "\n",
       "    .dataframe thead th {\n",
       "        text-align: right;\n",
       "    }\n",
       "</style>\n",
       "<table border=\"1\" class=\"dataframe\">\n",
       "  <thead>\n",
       "    <tr style=\"text-align: right;\">\n",
       "      <th></th>\n",
       "      <th># years DOJ service</th>\n",
       "    </tr>\n",
       "  </thead>\n",
       "  <tbody>\n",
       "    <tr>\n",
       "      <td>count</td>\n",
       "      <td>2670.000000</td>\n",
       "    </tr>\n",
       "    <tr>\n",
       "      <td>mean</td>\n",
       "      <td>12.553839</td>\n",
       "    </tr>\n",
       "    <tr>\n",
       "      <td>std</td>\n",
       "      <td>10.388459</td>\n",
       "    </tr>\n",
       "    <tr>\n",
       "      <td>min</td>\n",
       "      <td>0.800000</td>\n",
       "    </tr>\n",
       "    <tr>\n",
       "      <td>25%</td>\n",
       "      <td>5.000000</td>\n",
       "    </tr>\n",
       "    <tr>\n",
       "      <td>50%</td>\n",
       "      <td>8.000000</td>\n",
       "    </tr>\n",
       "    <tr>\n",
       "      <td>75%</td>\n",
       "      <td>19.375000</td>\n",
       "    </tr>\n",
       "    <tr>\n",
       "      <td>max</td>\n",
       "      <td>46.000000</td>\n",
       "    </tr>\n",
       "  </tbody>\n",
       "</table>\n",
       "</div>"
      ],
      "text/plain": [
       "       # years DOJ service\n",
       "count          2670.000000\n",
       "mean             12.553839\n",
       "std              10.388459\n",
       "min               0.800000\n",
       "25%               5.000000\n",
       "50%               8.000000\n",
       "75%              19.375000\n",
       "max              46.000000"
      ]
     },
     "execution_count": 8,
     "metadata": {},
     "output_type": "execute_result"
    }
   ],
   "source": [
    "prosecutors.describe()"
   ]
  },
  {
   "cell_type": "code",
   "execution_count": 9,
   "metadata": {
    "collapsed": false,
    "jupyter": {
     "outputs_hidden": false
    }
   },
   "outputs": [],
   "source": [
    "# replace semicolons with commas for seperating admins\n",
    "prosecutors[\"Admins served under\"] = prosecutors[\"Admins served under\"].str.replace(\";\",\",\")"
   ]
  },
  {
   "cell_type": "code",
   "execution_count": 10,
   "metadata": {
    "collapsed": false,
    "jupyter": {
     "outputs_hidden": false
    }
   },
   "outputs": [
    {
     "data": {
      "text/html": [
       "<div>\n",
       "<style scoped>\n",
       "    .dataframe tbody tr th:only-of-type {\n",
       "        vertical-align: middle;\n",
       "    }\n",
       "\n",
       "    .dataframe tbody tr th {\n",
       "        vertical-align: top;\n",
       "    }\n",
       "\n",
       "    .dataframe thead th {\n",
       "        text-align: right;\n",
       "    }\n",
       "</style>\n",
       "<table border=\"1\" class=\"dataframe\">\n",
       "  <thead>\n",
       "    <tr style=\"text-align: right;\">\n",
       "      <th></th>\n",
       "      <th># years DOJ service</th>\n",
       "    </tr>\n",
       "  </thead>\n",
       "  <tbody>\n",
       "    <tr>\n",
       "      <td>count</td>\n",
       "      <td>2670.000000</td>\n",
       "    </tr>\n",
       "    <tr>\n",
       "      <td>mean</td>\n",
       "      <td>12.553839</td>\n",
       "    </tr>\n",
       "    <tr>\n",
       "      <td>std</td>\n",
       "      <td>10.388459</td>\n",
       "    </tr>\n",
       "    <tr>\n",
       "      <td>min</td>\n",
       "      <td>0.800000</td>\n",
       "    </tr>\n",
       "    <tr>\n",
       "      <td>25%</td>\n",
       "      <td>5.000000</td>\n",
       "    </tr>\n",
       "    <tr>\n",
       "      <td>50%</td>\n",
       "      <td>8.000000</td>\n",
       "    </tr>\n",
       "    <tr>\n",
       "      <td>75%</td>\n",
       "      <td>19.375000</td>\n",
       "    </tr>\n",
       "    <tr>\n",
       "      <td>max</td>\n",
       "      <td>46.000000</td>\n",
       "    </tr>\n",
       "  </tbody>\n",
       "</table>\n",
       "</div>"
      ],
      "text/plain": [
       "       # years DOJ service\n",
       "count          2670.000000\n",
       "mean             12.553839\n",
       "std              10.388459\n",
       "min               0.800000\n",
       "25%               5.000000\n",
       "50%               8.000000\n",
       "75%              19.375000\n",
       "max              46.000000"
      ]
     },
     "execution_count": 10,
     "metadata": {},
     "output_type": "execute_result"
    }
   ],
   "source": [
    "prosecutors.describe()"
   ]
  },
  {
   "cell_type": "code",
   "execution_count": 36,
   "metadata": {
    "collapsed": false,
    "jupyter": {
     "outputs_hidden": false
    }
   },
   "outputs": [
    {
     "data": {
      "text/plain": [
       "<matplotlib.axes._subplots.AxesSubplot at 0x1a235a9750>"
      ]
     },
     "execution_count": 36,
     "metadata": {},
     "output_type": "execute_result"
    },
    {
     "data": {
      "image/png": "[encoded data removed]",
      "text/plain": [
       "<Figure size 432x288 with 1 Axes>"
      ]
     },
     "metadata": {
      "needs_background": "light"
     },
     "output_type": "display_data"
    }
   ],
   "source": [
    "sns.distplot(prosecutors[\"# years DOJ service\"], bins=20, kde=False, rug=True)"
   ]
  },
  {
   "cell_type": "code",
   "execution_count": 12,
   "metadata": {
    "collapsed": false,
    "jupyter": {
     "outputs_hidden": false
    }
   },
   "outputs": [
    {
     "data": {
      "text/plain": [
       "12.553838951310862"
      ]
     },
     "execution_count": 12,
     "metadata": {},
     "output_type": "execute_result"
    }
   ],
   "source": [
    "prosecutors[\"# years DOJ service\"].mean()"
   ]
  },
  {
   "cell_type": "code",
   "execution_count": 13,
   "metadata": {
    "collapsed": false,
    "jupyter": {
     "outputs_hidden": false
    }
   },
   "outputs": [
    {
     "data": {
      "text/plain": [
       "8.0"
      ]
     },
     "execution_count": 13,
     "metadata": {},
     "output_type": "execute_result"
    }
   ],
   "source": [
    "prosecutors[\"# years DOJ service\"].median()"
   ]
  },
  {
   "cell_type": "code",
   "execution_count": 14,
   "metadata": {
    "collapsed": false,
    "jupyter": {
     "outputs_hidden": false
    }
   },
   "outputs": [],
   "source": [
    "adminDur = {'Trump':2.3,'Obama':8,\"Bush II\":8,'Clinton':8,'Bush I':4,'Reagan':8,'Carter':4,'Ford':2.34,\n",
    "           'Nixon':5.6, 'Johnson':5.15, 'Kennedy':2.84, 'Eisenhower':8}\n",
    "\n",
    "presParty = {'Trump':'R','Obama':'D',\"Bush II\":'R','Clinton':'D','Bush I':'R','Reagan':'R','Carter':'D','Ford':'R',\n",
    "           'Nixon':'R', 'Johnson':'D', 'Kennedy':'D', 'Eisenhower':'R'}\n",
    "\n",
    "# inspired by https://gist.github.com/jlln/338b4b0b55bd6984f883\n",
    "def splitDataFrameList(df,target_column,separator):\n",
    "    ''' df = dataframe to split,\n",
    "    target_column = the column containing the values to split\n",
    "    separator = the symbol used to perform the split\n",
    "    returns: a dataframe with each entry for the target column separated, with each element moved into a new row. \n",
    "    The values in the other columns are duplicated across the newly divided rows.\n",
    "    '''\n",
    "    def splitListToRows(row,row_accumulator,target_column,separator):\n",
    "        split_row = [admin.strip() for admin in row[target_column].split(separator)]\n",
    "        number_elem = len(split_row)\n",
    "        last = split_row[-1:][0]\n",
    "        for s in split_row:\n",
    "            admin = s\n",
    "            new_row = row.to_dict()\n",
    "            new_row[target_column] = admin\n",
    "            new_row[\"approx # years by admin\"] = min(adminDur[admin],row[\"# years DOJ service\"]/number_elem)\n",
    "            new_row[\"Party when started\"] = presParty[last]\n",
    "            row_accumulator.append(new_row)\n",
    "        \n",
    "    new_rows = []\n",
    "    df.apply(splitListToRows,axis=1,args = (new_rows,target_column,separator))\n",
    "    \n",
    "    new_df = pd.DataFrame(new_rows)\n",
    "    return new_df"
   ]
  },
  {
   "cell_type": "code",
   "execution_count": 15,
   "metadata": {
    "collapsed": false,
    "jupyter": {
     "outputs_hidden": false
    }
   },
   "outputs": [],
   "source": [
    "assert adminDur[\"Obama\"] == 8"
   ]
  },
  {
   "cell_type": "code",
   "execution_count": 16,
   "metadata": {
    "collapsed": false,
    "jupyter": {
     "outputs_hidden": false
    }
   },
   "outputs": [],
   "source": [
    "prosecutorsByAdmin = splitDataFrameList(prosecutors,\"Admins served under\",\",\")"
   ]
  },
  {
   "cell_type": "code",
   "execution_count": 17,
   "metadata": {
    "collapsed": false,
    "jupyter": {
     "outputs_hidden": false
    }
   },
   "outputs": [
    {
     "data": {
      "text/html": [
       "<div>\n",
       "<style scoped>\n",
       "    .dataframe tbody tr th:only-of-type {\n",
       "        vertical-align: middle;\n",
       "    }\n",
       "\n",
       "    .dataframe tbody tr th {\n",
       "        vertical-align: top;\n",
       "    }\n",
       "\n",
       "    .dataframe thead th {\n",
       "        text-align: right;\n",
       "    }\n",
       "</style>\n",
       "<table border=\"1\" class=\"dataframe\">\n",
       "  <thead>\n",
       "    <tr style=\"text-align: right;\">\n",
       "      <th></th>\n",
       "      <th>count</th>\n",
       "      <th>unique</th>\n",
       "      <th>top</th>\n",
       "      <th>freq</th>\n",
       "    </tr>\n",
       "  </thead>\n",
       "  <tbody>\n",
       "    <tr>\n",
       "      <td>First name</td>\n",
       "      <td>7711</td>\n",
       "      <td>979</td>\n",
       "      <td>Robert</td>\n",
       "      <td>255</td>\n",
       "    </tr>\n",
       "    <tr>\n",
       "      <td>Last name</td>\n",
       "      <td>7711</td>\n",
       "      <td>2172</td>\n",
       "      <td>Miller</td>\n",
       "      <td>51</td>\n",
       "    </tr>\n",
       "    <tr>\n",
       "      <td>Highest DOJ title</td>\n",
       "      <td>7711</td>\n",
       "      <td>1284</td>\n",
       "      <td>Assistant United States Attorney</td>\n",
       "      <td>1300</td>\n",
       "    </tr>\n",
       "    <tr>\n",
       "      <td># years DOJ service</td>\n",
       "      <td>7711</td>\n",
       "      <td>97</td>\n",
       "      <td>5</td>\n",
       "      <td>408</td>\n",
       "    </tr>\n",
       "    <tr>\n",
       "      <td>Admins served under</td>\n",
       "      <td>7711</td>\n",
       "      <td>12</td>\n",
       "      <td>Clinton</td>\n",
       "      <td>1384</td>\n",
       "    </tr>\n",
       "    <tr>\n",
       "      <td>approx # years by admin</td>\n",
       "      <td>7711</td>\n",
       "      <td>131</td>\n",
       "      <td>4</td>\n",
       "      <td>1497</td>\n",
       "    </tr>\n",
       "    <tr>\n",
       "      <td>Party when started</td>\n",
       "      <td>7711</td>\n",
       "      <td>2</td>\n",
       "      <td>R</td>\n",
       "      <td>4692</td>\n",
       "    </tr>\n",
       "  </tbody>\n",
       "</table>\n",
       "</div>"
      ],
      "text/plain": [
       "                        count unique                               top  freq\n",
       "First name               7711    979                            Robert   255\n",
       "Last name                7711   2172                            Miller    51\n",
       "Highest DOJ title        7711   1284  Assistant United States Attorney  1300\n",
       "# years DOJ service      7711     97                                 5   408\n",
       "Admins served under      7711     12                           Clinton  1384\n",
       "approx # years by admin  7711    131                                 4  1497\n",
       "Party when started       7711      2                                 R  4692"
      ]
     },
     "execution_count": 17,
     "metadata": {},
     "output_type": "execute_result"
    }
   ],
   "source": [
    "prosecutorsByAdmin.astype('object').describe().transpose()"
   ]
  },
  {
   "cell_type": "code",
   "execution_count": 18,
   "metadata": {
    "collapsed": false,
    "jupyter": {
     "outputs_hidden": false
    },
    "scrolled": true
   },
   "outputs": [
    {
     "data": {
      "text/html": [
       "<div>\n",
       "<style scoped>\n",
       "    .dataframe tbody tr th:only-of-type {\n",
       "        vertical-align: middle;\n",
       "    }\n",
       "\n",
       "    .dataframe tbody tr th {\n",
       "        vertical-align: top;\n",
       "    }\n",
       "\n",
       "    .dataframe thead th {\n",
       "        text-align: right;\n",
       "    }\n",
       "</style>\n",
       "<table border=\"1\" class=\"dataframe\">\n",
       "  <thead>\n",
       "    <tr style=\"text-align: right;\">\n",
       "      <th></th>\n",
       "      <th>First name</th>\n",
       "      <th>Last name</th>\n",
       "      <th>Highest DOJ title</th>\n",
       "      <th># years DOJ service</th>\n",
       "      <th>Admins served under</th>\n",
       "      <th>approx # years by admin</th>\n",
       "      <th>Party when started</th>\n",
       "    </tr>\n",
       "  </thead>\n",
       "  <tbody>\n",
       "    <tr>\n",
       "      <td>0</td>\n",
       "      <td>Kathleen</td>\n",
       "      <td>(Kaczmarek) Mehltretter</td>\n",
       "      <td>United States Attorney for the Western Distric...</td>\n",
       "      <td>32.0</td>\n",
       "      <td>Obama</td>\n",
       "      <td>5.333333</td>\n",
       "      <td>D</td>\n",
       "    </tr>\n",
       "    <tr>\n",
       "      <td>1</td>\n",
       "      <td>Kathleen</td>\n",
       "      <td>(Kaczmarek) Mehltretter</td>\n",
       "      <td>United States Attorney for the Western Distric...</td>\n",
       "      <td>32.0</td>\n",
       "      <td>Bush II</td>\n",
       "      <td>5.333333</td>\n",
       "      <td>D</td>\n",
       "    </tr>\n",
       "    <tr>\n",
       "      <td>2</td>\n",
       "      <td>Kathleen</td>\n",
       "      <td>(Kaczmarek) Mehltretter</td>\n",
       "      <td>United States Attorney for the Western Distric...</td>\n",
       "      <td>32.0</td>\n",
       "      <td>Clinton</td>\n",
       "      <td>5.333333</td>\n",
       "      <td>D</td>\n",
       "    </tr>\n",
       "    <tr>\n",
       "      <td>3</td>\n",
       "      <td>Kathleen</td>\n",
       "      <td>(Kaczmarek) Mehltretter</td>\n",
       "      <td>United States Attorney for the Western Distric...</td>\n",
       "      <td>32.0</td>\n",
       "      <td>Bush I</td>\n",
       "      <td>4.000000</td>\n",
       "      <td>D</td>\n",
       "    </tr>\n",
       "    <tr>\n",
       "      <td>4</td>\n",
       "      <td>Kathleen</td>\n",
       "      <td>(Kaczmarek) Mehltretter</td>\n",
       "      <td>United States Attorney for the Western Distric...</td>\n",
       "      <td>32.0</td>\n",
       "      <td>Reagan</td>\n",
       "      <td>5.333333</td>\n",
       "      <td>D</td>\n",
       "    </tr>\n",
       "    <tr>\n",
       "      <td>5</td>\n",
       "      <td>Kathleen</td>\n",
       "      <td>(Kaczmarek) Mehltretter</td>\n",
       "      <td>United States Attorney for the Western Distric...</td>\n",
       "      <td>32.0</td>\n",
       "      <td>Carter</td>\n",
       "      <td>4.000000</td>\n",
       "      <td>D</td>\n",
       "    </tr>\n",
       "    <tr>\n",
       "      <td>6</td>\n",
       "      <td>Dianne</td>\n",
       "      <td>(Kelly) Sanford</td>\n",
       "      <td>Assistant United States Attorney (D.C.); Assis...</td>\n",
       "      <td>13.0</td>\n",
       "      <td>Bush I</td>\n",
       "      <td>4.000000</td>\n",
       "      <td>D</td>\n",
       "    </tr>\n",
       "    <tr>\n",
       "      <td>7</td>\n",
       "      <td>Dianne</td>\n",
       "      <td>(Kelly) Sanford</td>\n",
       "      <td>Assistant United States Attorney (D.C.); Assis...</td>\n",
       "      <td>13.0</td>\n",
       "      <td>Reagan</td>\n",
       "      <td>4.333333</td>\n",
       "      <td>D</td>\n",
       "    </tr>\n",
       "    <tr>\n",
       "      <td>8</td>\n",
       "      <td>Dianne</td>\n",
       "      <td>(Kelly) Sanford</td>\n",
       "      <td>Assistant United States Attorney (D.C.); Assis...</td>\n",
       "      <td>13.0</td>\n",
       "      <td>Carter</td>\n",
       "      <td>4.000000</td>\n",
       "      <td>D</td>\n",
       "    </tr>\n",
       "  </tbody>\n",
       "</table>\n",
       "</div>"
      ],
      "text/plain": [
       "  First name                Last name  \\\n",
       "0   Kathleen  (Kaczmarek) Mehltretter   \n",
       "1   Kathleen  (Kaczmarek) Mehltretter   \n",
       "2   Kathleen  (Kaczmarek) Mehltretter   \n",
       "3   Kathleen  (Kaczmarek) Mehltretter   \n",
       "4   Kathleen  (Kaczmarek) Mehltretter   \n",
       "5   Kathleen  (Kaczmarek) Mehltretter   \n",
       "6     Dianne          (Kelly) Sanford   \n",
       "7     Dianne          (Kelly) Sanford   \n",
       "8     Dianne          (Kelly) Sanford   \n",
       "\n",
       "                                   Highest DOJ title  # years DOJ service  \\\n",
       "0  United States Attorney for the Western Distric...                 32.0   \n",
       "1  United States Attorney for the Western Distric...                 32.0   \n",
       "2  United States Attorney for the Western Distric...                 32.0   \n",
       "3  United States Attorney for the Western Distric...                 32.0   \n",
       "4  United States Attorney for the Western Distric...                 32.0   \n",
       "5  United States Attorney for the Western Distric...                 32.0   \n",
       "6  Assistant United States Attorney (D.C.); Assis...                 13.0   \n",
       "7  Assistant United States Attorney (D.C.); Assis...                 13.0   \n",
       "8  Assistant United States Attorney (D.C.); Assis...                 13.0   \n",
       "\n",
       "  Admins served under  approx # years by admin Party when started  \n",
       "0               Obama                 5.333333                  D  \n",
       "1             Bush II                 5.333333                  D  \n",
       "2             Clinton                 5.333333                  D  \n",
       "3              Bush I                 4.000000                  D  \n",
       "4              Reagan                 5.333333                  D  \n",
       "5              Carter                 4.000000                  D  \n",
       "6              Bush I                 4.000000                  D  \n",
       "7              Reagan                 4.333333                  D  \n",
       "8              Carter                 4.000000                  D  "
      ]
     },
     "execution_count": 18,
     "metadata": {},
     "output_type": "execute_result"
    }
   ],
   "source": [
    "prosecutorsByAdmin[0:9]"
   ]
  },
  {
   "cell_type": "code",
   "execution_count": 19,
   "metadata": {},
   "outputs": [],
   "source": [
    "unique_starting_party = prosecutorsByAdmin[[\"First name\",\"Last name\",\"# years DOJ service\",\"Party when started\"]].drop_duplicates()"
   ]
  },
  {
   "cell_type": "code",
   "execution_count": 20,
   "metadata": {
    "collapsed": false,
    "jupyter": {
     "outputs_hidden": false
    }
   },
   "outputs": [],
   "source": [
    "# checking for 12 unique admins\n",
    "assert len(prosecutorsByAdmin[\"Admins served under\"].unique()) == 12"
   ]
  },
  {
   "cell_type": "code",
   "execution_count": 21,
   "metadata": {},
   "outputs": [
    {
     "data": {
      "text/plain": [
       "R    1486\n",
       "D    1182\n",
       "Name: Party when started, dtype: int64"
      ]
     },
     "execution_count": 21,
     "metadata": {},
     "output_type": "execute_result"
    }
   ],
   "source": [
    "pd.value_counts(unique_starting_party[\"Party when started\"])"
   ]
  },
  {
   "cell_type": "code",
   "execution_count": 22,
   "metadata": {
    "collapsed": false,
    "jupyter": {
     "outputs_hidden": false
    }
   },
   "outputs": [
    {
     "data": {
      "text/plain": [
       "<matplotlib.axes._subplots.AxesSubplot at 0x1a2436e950>"
      ]
     },
     "execution_count": 22,
     "metadata": {},
     "output_type": "execute_result"
    },
    {
     "data": {
      "image/png": "[encoded data removed]",
      "text/plain": [
       "<Figure size 432x288 with 1 Axes>"
      ]
     },
     "metadata": {
      "needs_background": "light"
     },
     "output_type": "display_data"
    }
   ],
   "source": [
    "pd.value_counts(unique_starting_party[\"Party when started\"]).plot(kind=\"bar\")"
   ]
  },
  {
   "cell_type": "code",
   "execution_count": 23,
   "metadata": {
    "collapsed": false,
    "jupyter": {
     "outputs_hidden": false
    }
   },
   "outputs": [
    {
     "data": {
      "text/plain": [
       "<matplotlib.axes._subplots.AxesSubplot at 0x1a243e0450>"
      ]
     },
     "execution_count": 23,
     "metadata": {},
     "output_type": "execute_result"
    },
    {
     "data": {
      "image/png": "[encoded data removed]",
      "text/plain": [
       "<Figure size 432x288 with 1 Axes>"
      ]
     },
     "metadata": {
      "needs_background": "light"
     },
     "output_type": "display_data"
    }
   ],
   "source": [
    "sns.violinplot(y=\"Admins served under\",x=\"approx # years by admin\",data=prosecutorsByAdmin,estimator=sum)\n",
    "# every service longer than 8 years is suspicous: likely data entry error "
   ]
  },
  {
   "cell_type": "code",
   "execution_count": 24,
   "metadata": {
    "collapsed": false,
    "jupyter": {
     "outputs_hidden": false
    }
   },
   "outputs": [
    {
     "data": {
      "text/html": [
       "<div>\n",
       "<style scoped>\n",
       "    .dataframe tbody tr th:only-of-type {\n",
       "        vertical-align: middle;\n",
       "    }\n",
       "\n",
       "    .dataframe tbody tr th {\n",
       "        vertical-align: top;\n",
       "    }\n",
       "\n",
       "    .dataframe thead th {\n",
       "        text-align: right;\n",
       "    }\n",
       "</style>\n",
       "<table border=\"1\" class=\"dataframe\">\n",
       "  <thead>\n",
       "    <tr style=\"text-align: right;\">\n",
       "      <th></th>\n",
       "      <th>First name</th>\n",
       "      <th>Last name</th>\n",
       "      <th>Highest DOJ title</th>\n",
       "      <th># years DOJ service</th>\n",
       "      <th>Admins served under</th>\n",
       "      <th>approx # years by admin</th>\n",
       "      <th>Party when started</th>\n",
       "    </tr>\n",
       "  </thead>\n",
       "  <tbody>\n",
       "  </tbody>\n",
       "</table>\n",
       "</div>"
      ],
      "text/plain": [
       "Empty DataFrame\n",
       "Columns: [First name, Last name, Highest DOJ title, # years DOJ service, Admins served under, approx # years by admin, Party when started]\n",
       "Index: []"
      ]
     },
     "execution_count": 24,
     "metadata": {},
     "output_type": "execute_result"
    }
   ],
   "source": [
    "prosecutorsByAdmin[prosecutorsByAdmin[\"approx # years by admin\"]>8]"
   ]
  },
  {
   "cell_type": "code",
   "execution_count": 25,
   "metadata": {
    "collapsed": false,
    "jupyter": {
     "outputs_hidden": false
    }
   },
   "outputs": [
    {
     "data": {
      "text/html": [
       "<div>\n",
       "<style scoped>\n",
       "    .dataframe tbody tr th:only-of-type {\n",
       "        vertical-align: middle;\n",
       "    }\n",
       "\n",
       "    .dataframe tbody tr th {\n",
       "        vertical-align: top;\n",
       "    }\n",
       "\n",
       "    .dataframe thead th {\n",
       "        text-align: right;\n",
       "    }\n",
       "</style>\n",
       "<table border=\"1\" class=\"dataframe\">\n",
       "  <thead>\n",
       "    <tr style=\"text-align: right;\">\n",
       "      <th></th>\n",
       "      <th>First name</th>\n",
       "      <th>Last name</th>\n",
       "      <th>Highest DOJ title</th>\n",
       "      <th># years DOJ service</th>\n",
       "      <th>Admins served under</th>\n",
       "      <th>approx # years by admin</th>\n",
       "      <th>Party when started</th>\n",
       "    </tr>\n",
       "  </thead>\n",
       "  <tbody>\n",
       "  </tbody>\n",
       "</table>\n",
       "</div>"
      ],
      "text/plain": [
       "Empty DataFrame\n",
       "Columns: [First name, Last name, Highest DOJ title, # years DOJ service, Admins served under, approx # years by admin, Party when started]\n",
       "Index: []"
      ]
     },
     "execution_count": 25,
     "metadata": {},
     "output_type": "execute_result"
    }
   ],
   "source": [
    "prosecutorsByAdmin[prosecutorsByAdmin[\"# years DOJ service\"]<0]"
   ]
  },
  {
   "cell_type": "code",
   "execution_count": 26,
   "metadata": {
    "collapsed": false,
    "jupyter": {
     "outputs_hidden": false
    }
   },
   "outputs": [
    {
     "data": {
      "image/png": "[encoded data removed]",
      "text/plain": [
       "<Figure size 432x288 with 1 Axes>"
      ]
     },
     "metadata": {
      "needs_background": "light"
     },
     "output_type": "display_data"
    }
   ],
   "source": [
    "ax = sns.barplot(y=\"Admins served under\",x=\"approx # years by admin\",data=prosecutorsByAdmin,estimator=sum)"
   ]
  },
  {
   "cell_type": "code",
   "execution_count": 27,
   "metadata": {
    "collapsed": false,
    "jupyter": {
     "outputs_hidden": false
    }
   },
   "outputs": [
    {
     "data": {
      "text/html": [
       "<div>\n",
       "<style scoped>\n",
       "    .dataframe tbody tr th:only-of-type {\n",
       "        vertical-align: middle;\n",
       "    }\n",
       "\n",
       "    .dataframe tbody tr th {\n",
       "        vertical-align: top;\n",
       "    }\n",
       "\n",
       "    .dataframe thead th {\n",
       "        text-align: right;\n",
       "    }\n",
       "</style>\n",
       "<table border=\"1\" class=\"dataframe\">\n",
       "  <thead>\n",
       "    <tr style=\"text-align: right;\">\n",
       "      <th></th>\n",
       "      <th>First name</th>\n",
       "      <th>Last name</th>\n",
       "      <th>Highest DOJ title</th>\n",
       "      <th># years DOJ service</th>\n",
       "      <th>Admins served under</th>\n",
       "      <th>approx # years by admin</th>\n",
       "      <th>Party when started</th>\n",
       "    </tr>\n",
       "  </thead>\n",
       "  <tbody>\n",
       "    <tr>\n",
       "      <td>4127</td>\n",
       "      <td>Michael</td>\n",
       "      <td>Lindemann</td>\n",
       "      <td>Chief, National Security Unit</td>\n",
       "      <td>42.0</td>\n",
       "      <td>Trump</td>\n",
       "      <td>2.30</td>\n",
       "      <td>R</td>\n",
       "    </tr>\n",
       "    <tr>\n",
       "      <td>563</td>\n",
       "      <td>Laura</td>\n",
       "      <td>Blumenfeld</td>\n",
       "      <td>Assistant General Counsel, FBI</td>\n",
       "      <td>42.0</td>\n",
       "      <td>Trump</td>\n",
       "      <td>2.30</td>\n",
       "      <td>R</td>\n",
       "    </tr>\n",
       "    <tr>\n",
       "      <td>3729</td>\n",
       "      <td>John</td>\n",
       "      <td>Kolar</td>\n",
       "      <td>Senior Trial Counsel</td>\n",
       "      <td>41.0</td>\n",
       "      <td>Trump</td>\n",
       "      <td>2.30</td>\n",
       "      <td>R</td>\n",
       "    </tr>\n",
       "    <tr>\n",
       "      <td>3487</td>\n",
       "      <td>Michael</td>\n",
       "      <td>Kearns</td>\n",
       "      <td>Chief, Civil Trial Section, Tax Division (SES)</td>\n",
       "      <td>41.0</td>\n",
       "      <td>Trump</td>\n",
       "      <td>2.30</td>\n",
       "      <td>D</td>\n",
       "    </tr>\n",
       "    <tr>\n",
       "      <td>4681</td>\n",
       "      <td>Ted</td>\n",
       "      <td>Merritt</td>\n",
       "      <td>Assistant United States Attorney, MA</td>\n",
       "      <td>41.0</td>\n",
       "      <td>Trump</td>\n",
       "      <td>2.30</td>\n",
       "      <td>D</td>\n",
       "    </tr>\n",
       "    <tr>\n",
       "      <td>...</td>\n",
       "      <td>...</td>\n",
       "      <td>...</td>\n",
       "      <td>...</td>\n",
       "      <td>...</td>\n",
       "      <td>...</td>\n",
       "      <td>...</td>\n",
       "      <td>...</td>\n",
       "    </tr>\n",
       "    <tr>\n",
       "      <td>2883</td>\n",
       "      <td>Bailey</td>\n",
       "      <td>Heaps</td>\n",
       "      <td>Trial Attorney</td>\n",
       "      <td>1.5</td>\n",
       "      <td>Trump</td>\n",
       "      <td>0.75</td>\n",
       "      <td>D</td>\n",
       "    </tr>\n",
       "    <tr>\n",
       "      <td>7055</td>\n",
       "      <td>Somil</td>\n",
       "      <td>Trivedi</td>\n",
       "      <td>Trial Attorney</td>\n",
       "      <td>1.0</td>\n",
       "      <td>Trump</td>\n",
       "      <td>1.00</td>\n",
       "      <td>R</td>\n",
       "    </tr>\n",
       "    <tr>\n",
       "      <td>6854</td>\n",
       "      <td>Nikhel</td>\n",
       "      <td>Sus</td>\n",
       "      <td>Trial Attorney, Federal Programs Branch</td>\n",
       "      <td>1.0</td>\n",
       "      <td>Trump</td>\n",
       "      <td>1.00</td>\n",
       "      <td>R</td>\n",
       "    </tr>\n",
       "    <tr>\n",
       "      <td>5606</td>\n",
       "      <td>Gregory</td>\n",
       "      <td>Rasnake</td>\n",
       "      <td>Chief of Legislative Affairs ATF</td>\n",
       "      <td>1.0</td>\n",
       "      <td>Trump</td>\n",
       "      <td>0.20</td>\n",
       "      <td>R</td>\n",
       "    </tr>\n",
       "    <tr>\n",
       "      <td>5386</td>\n",
       "      <td>Ashwin</td>\n",
       "      <td>Phatak</td>\n",
       "      <td>Attorney-Adviser</td>\n",
       "      <td>1.0</td>\n",
       "      <td>Trump</td>\n",
       "      <td>0.50</td>\n",
       "      <td>D</td>\n",
       "    </tr>\n",
       "  </tbody>\n",
       "</table>\n",
       "<p>313 rows × 7 columns</p>\n",
       "</div>"
      ],
      "text/plain": [
       "     First name   Last name                               Highest DOJ title  \\\n",
       "4127    Michael   Lindemann                   Chief, National Security Unit   \n",
       "563       Laura  Blumenfeld                  Assistant General Counsel, FBI   \n",
       "3729       John       Kolar                            Senior Trial Counsel   \n",
       "3487    Michael      Kearns  Chief, Civil Trial Section, Tax Division (SES)   \n",
       "4681        Ted     Merritt            Assistant United States Attorney, MA   \n",
       "...         ...         ...                                             ...   \n",
       "2883     Bailey       Heaps                                  Trial Attorney   \n",
       "7055      Somil     Trivedi                                  Trial Attorney   \n",
       "6854     Nikhel         Sus         Trial Attorney, Federal Programs Branch   \n",
       "5606    Gregory     Rasnake                Chief of Legislative Affairs ATF   \n",
       "5386     Ashwin      Phatak                                Attorney-Adviser   \n",
       "\n",
       "      # years DOJ service Admins served under  approx # years by admin  \\\n",
       "4127                 42.0               Trump                     2.30   \n",
       "563                  42.0               Trump                     2.30   \n",
       "3729                 41.0               Trump                     2.30   \n",
       "3487                 41.0               Trump                     2.30   \n",
       "4681                 41.0               Trump                     2.30   \n",
       "...                   ...                 ...                      ...   \n",
       "2883                  1.5               Trump                     0.75   \n",
       "7055                  1.0               Trump                     1.00   \n",
       "6854                  1.0               Trump                     1.00   \n",
       "5606                  1.0               Trump                     0.20   \n",
       "5386                  1.0               Trump                     0.50   \n",
       "\n",
       "     Party when started  \n",
       "4127                  R  \n",
       "563                   R  \n",
       "3729                  R  \n",
       "3487                  D  \n",
       "4681                  D  \n",
       "...                 ...  \n",
       "2883                  D  \n",
       "7055                  R  \n",
       "6854                  R  \n",
       "5606                  R  \n",
       "5386                  D  \n",
       "\n",
       "[313 rows x 7 columns]"
      ]
     },
     "execution_count": 27,
     "metadata": {},
     "output_type": "execute_result"
    }
   ],
   "source": [
    "prosecutorsByAdmin[prosecutorsByAdmin[\"Admins served under\"]==\"Trump\"].sort_values([\"# years DOJ service\"],ascending =  False)"
   ]
  },
  {
   "cell_type": "code",
   "execution_count": 28,
   "metadata": {},
   "outputs": [],
   "source": [
    "prosecutorsObstruction = pd.read_excel(\"../data/FederalProsecutors.xls\")"
   ]
  },
  {
   "cell_type": "code",
   "execution_count": 29,
   "metadata": {},
   "outputs": [],
   "source": [
    "# drop the first row (David W. Mernitz does not have a valid value for years in DOJ service)\n",
    "prosecutorsObstruction = prosecutorsObstruction[1:]"
   ]
  },
  {
   "cell_type": "code",
   "execution_count": 30,
   "metadata": {},
   "outputs": [],
   "source": [
    "# replace semicolons with commas for seperating admins\n",
    "prosecutorsObstruction[\"Admins served under\"] = prosecutorsObstruction[\"Admins served under\"].str.replace(\";\",\",\")"
   ]
  },
  {
   "cell_type": "code",
   "execution_count": 31,
   "metadata": {},
   "outputs": [
    {
     "data": {
      "text/html": [
       "<div>\n",
       "<style scoped>\n",
       "    .dataframe tbody tr th:only-of-type {\n",
       "        vertical-align: middle;\n",
       "    }\n",
       "\n",
       "    .dataframe tbody tr th {\n",
       "        vertical-align: top;\n",
       "    }\n",
       "\n",
       "    .dataframe thead th {\n",
       "        text-align: right;\n",
       "    }\n",
       "</style>\n",
       "<table border=\"1\" class=\"dataframe\">\n",
       "  <thead>\n",
       "    <tr style=\"text-align: right;\">\n",
       "      <th></th>\n",
       "      <th># years DOJ service</th>\n",
       "    </tr>\n",
       "  </thead>\n",
       "  <tbody>\n",
       "    <tr>\n",
       "      <td>count</td>\n",
       "      <td>1026.000000</td>\n",
       "    </tr>\n",
       "    <tr>\n",
       "      <td>mean</td>\n",
       "      <td>12.459064</td>\n",
       "    </tr>\n",
       "    <tr>\n",
       "      <td>std</td>\n",
       "      <td>9.824783</td>\n",
       "    </tr>\n",
       "    <tr>\n",
       "      <td>min</td>\n",
       "      <td>1.000000</td>\n",
       "    </tr>\n",
       "    <tr>\n",
       "      <td>25%</td>\n",
       "      <td>5.000000</td>\n",
       "    </tr>\n",
       "    <tr>\n",
       "      <td>50%</td>\n",
       "      <td>8.000000</td>\n",
       "    </tr>\n",
       "    <tr>\n",
       "      <td>75%</td>\n",
       "      <td>18.000000</td>\n",
       "    </tr>\n",
       "    <tr>\n",
       "      <td>max</td>\n",
       "      <td>43.000000</td>\n",
       "    </tr>\n",
       "  </tbody>\n",
       "</table>\n",
       "</div>"
      ],
      "text/plain": [
       "       # years DOJ service\n",
       "count          1026.000000\n",
       "mean             12.459064\n",
       "std               9.824783\n",
       "min               1.000000\n",
       "25%               5.000000\n",
       "50%               8.000000\n",
       "75%              18.000000\n",
       "max              43.000000"
      ]
     },
     "execution_count": 31,
     "metadata": {},
     "output_type": "execute_result"
    }
   ],
   "source": [
    "prosecutorsObstruction.describe()"
   ]
  },
  {
   "cell_type": "code",
   "execution_count": 32,
   "metadata": {},
   "outputs": [],
   "source": [
    "intersection = pd.merge(prosecutorsObstruction,prosecutors, how='inner', on=['Last name', 'First name'])"
   ]
  },
  {
   "cell_type": "code",
   "execution_count": 33,
   "metadata": {},
   "outputs": [
    {
     "data": {
      "text/html": [
       "<div>\n",
       "<style scoped>\n",
       "    .dataframe tbody tr th:only-of-type {\n",
       "        vertical-align: middle;\n",
       "    }\n",
       "\n",
       "    .dataframe tbody tr th {\n",
       "        vertical-align: top;\n",
       "    }\n",
       "\n",
       "    .dataframe thead th {\n",
       "        text-align: right;\n",
       "    }\n",
       "</style>\n",
       "<table border=\"1\" class=\"dataframe\">\n",
       "  <thead>\n",
       "    <tr style=\"text-align: right;\">\n",
       "      <th></th>\n",
       "      <th>First name</th>\n",
       "      <th>Last name</th>\n",
       "      <th>Highest DOJ title_x</th>\n",
       "      <th># years DOJ service_x</th>\n",
       "      <th>Admins served under_x</th>\n",
       "      <th>Highest DOJ title_y</th>\n",
       "      <th># years DOJ service_y</th>\n",
       "      <th>Admins served under_y</th>\n",
       "    </tr>\n",
       "  </thead>\n",
       "  <tbody>\n",
       "    <tr>\n",
       "      <td>0</td>\n",
       "      <td>Frederick</td>\n",
       "      <td>Hess</td>\n",
       "      <td>Director Office of Enforcement Operations, Cri...</td>\n",
       "      <td>43.0</td>\n",
       "      <td>Obama, Bush II, Clinton, Bush I, Reagan, Carte...</td>\n",
       "      <td>Office Director, Criminal Division</td>\n",
       "      <td>43.0</td>\n",
       "      <td>Obama, Bush II, Clinton, Bush I, Reagan, Carte...</td>\n",
       "    </tr>\n",
       "    <tr>\n",
       "      <td>1</td>\n",
       "      <td>Gary</td>\n",
       "      <td>Shapiro</td>\n",
       "      <td>Interim United States Attorney, Northern Distr...</td>\n",
       "      <td>42.0</td>\n",
       "      <td>Obama, Bush II, Clinton, Bush I, Reagan, Carte...</td>\n",
       "      <td>Interim United States Attorney</td>\n",
       "      <td>42.0</td>\n",
       "      <td>Obama, Bush II, Clinton, Bush I, Reagan, Carte...</td>\n",
       "    </tr>\n",
       "    <tr>\n",
       "      <td>2</td>\n",
       "      <td>John</td>\n",
       "      <td>Kolar</td>\n",
       "      <td>Senior Trial Counsel</td>\n",
       "      <td>41.0</td>\n",
       "      <td>Trump,Obama,Bush II,Clinton,Bush I,Reagan,Cart...</td>\n",
       "      <td>Senior Trial Counsel</td>\n",
       "      <td>41.0</td>\n",
       "      <td>Trump, Obama, Bush II, Clinton, Bush I, Reagan...</td>\n",
       "    </tr>\n",
       "    <tr>\n",
       "      <td>3</td>\n",
       "      <td>E. Thomas</td>\n",
       "      <td>Roberts</td>\n",
       "      <td>Chief of Narcotics Division, District of Maryland</td>\n",
       "      <td>40.0</td>\n",
       "      <td>Obama, Bush II, Clinton, Bush I, Reagan, Carte...</td>\n",
       "      <td>Chief, Narcotics Division, USAO-Maryland</td>\n",
       "      <td>40.0</td>\n",
       "      <td>Obama, Bush II, Clinton, Bush I, Reagan, Carte...</td>\n",
       "    </tr>\n",
       "    <tr>\n",
       "      <td>4</td>\n",
       "      <td>Judith</td>\n",
       "      <td>Rabinowitz</td>\n",
       "      <td>Assistant Director</td>\n",
       "      <td>38.5</td>\n",
       "      <td>Obama, Bush II, Clinton, Bush I, Reagan, Carter</td>\n",
       "      <td>Assistant Director, Civil Division</td>\n",
       "      <td>38.5</td>\n",
       "      <td>Obama, Bush II, Clinton, Bush I, Reagan, Carter</td>\n",
       "    </tr>\n",
       "    <tr>\n",
       "      <td>...</td>\n",
       "      <td>...</td>\n",
       "      <td>...</td>\n",
       "      <td>...</td>\n",
       "      <td>...</td>\n",
       "      <td>...</td>\n",
       "      <td>...</td>\n",
       "      <td>...</td>\n",
       "      <td>...</td>\n",
       "    </tr>\n",
       "    <tr>\n",
       "      <td>663</td>\n",
       "      <td>Robert</td>\n",
       "      <td>Martin</td>\n",
       "      <td>Special Assistant United States Attorney</td>\n",
       "      <td>1.0</td>\n",
       "      <td>Reagan</td>\n",
       "      <td>Special Assistant United States Attorney</td>\n",
       "      <td>1.0</td>\n",
       "      <td>Reagan</td>\n",
       "    </tr>\n",
       "    <tr>\n",
       "      <td>664</td>\n",
       "      <td>Charles</td>\n",
       "      <td>Carnese</td>\n",
       "      <td>Assistant U.S. Attorney</td>\n",
       "      <td>1.0</td>\n",
       "      <td>Ford</td>\n",
       "      <td>Assistant United States Attorney</td>\n",
       "      <td>3.0</td>\n",
       "      <td>Ford, Nixon</td>\n",
       "    </tr>\n",
       "    <tr>\n",
       "      <td>665</td>\n",
       "      <td>Albert</td>\n",
       "      <td>Alschuler</td>\n",
       "      <td>Special Assistant to the Assistant Attorney Ge...</td>\n",
       "      <td>1.0</td>\n",
       "      <td>Johnson</td>\n",
       "      <td>Special Assistant to the Assistant Attorney Ge...</td>\n",
       "      <td>1.0</td>\n",
       "      <td>Johnson</td>\n",
       "    </tr>\n",
       "    <tr>\n",
       "      <td>666</td>\n",
       "      <td>Jonathan</td>\n",
       "      <td>Parnes</td>\n",
       "      <td>Special Assistant United States Attorney</td>\n",
       "      <td>1.0</td>\n",
       "      <td>Obama</td>\n",
       "      <td>Special Assistant United States Attorney</td>\n",
       "      <td>1.0</td>\n",
       "      <td>Obama</td>\n",
       "    </tr>\n",
       "    <tr>\n",
       "      <td>667</td>\n",
       "      <td>Joseph</td>\n",
       "      <td>Turner</td>\n",
       "      <td>Assistant United States attorney</td>\n",
       "      <td>1.0</td>\n",
       "      <td>Reagan</td>\n",
       "      <td>Assistant United States Attorney</td>\n",
       "      <td>1.0</td>\n",
       "      <td>Reagan</td>\n",
       "    </tr>\n",
       "  </tbody>\n",
       "</table>\n",
       "<p>668 rows × 8 columns</p>\n",
       "</div>"
      ],
      "text/plain": [
       "    First name   Last name                                Highest DOJ title_x  \\\n",
       "0    Frederick        Hess  Director Office of Enforcement Operations, Cri...   \n",
       "1         Gary     Shapiro  Interim United States Attorney, Northern Distr...   \n",
       "2         John       Kolar                               Senior Trial Counsel   \n",
       "3    E. Thomas     Roberts  Chief of Narcotics Division, District of Maryland   \n",
       "4       Judith  Rabinowitz                                 Assistant Director   \n",
       "..         ...         ...                                                ...   \n",
       "663     Robert      Martin           Special Assistant United States Attorney   \n",
       "664    Charles     Carnese                            Assistant U.S. Attorney   \n",
       "665     Albert   Alschuler  Special Assistant to the Assistant Attorney Ge...   \n",
       "666   Jonathan      Parnes           Special Assistant United States Attorney   \n",
       "667     Joseph      Turner                   Assistant United States attorney   \n",
       "\n",
       "     # years DOJ service_x                              Admins served under_x  \\\n",
       "0                     43.0  Obama, Bush II, Clinton, Bush I, Reagan, Carte...   \n",
       "1                     42.0  Obama, Bush II, Clinton, Bush I, Reagan, Carte...   \n",
       "2                     41.0  Trump,Obama,Bush II,Clinton,Bush I,Reagan,Cart...   \n",
       "3                     40.0  Obama, Bush II, Clinton, Bush I, Reagan, Carte...   \n",
       "4                     38.5    Obama, Bush II, Clinton, Bush I, Reagan, Carter   \n",
       "..                     ...                                                ...   \n",
       "663                    1.0                                             Reagan   \n",
       "664                    1.0                                               Ford   \n",
       "665                    1.0                                            Johnson   \n",
       "666                    1.0                                              Obama   \n",
       "667                    1.0                                             Reagan   \n",
       "\n",
       "                                   Highest DOJ title_y  # years DOJ service_y  \\\n",
       "0                   Office Director, Criminal Division                   43.0   \n",
       "1                       Interim United States Attorney                   42.0   \n",
       "2                                 Senior Trial Counsel                   41.0   \n",
       "3             Chief, Narcotics Division, USAO-Maryland                   40.0   \n",
       "4                   Assistant Director, Civil Division                   38.5   \n",
       "..                                                 ...                    ...   \n",
       "663           Special Assistant United States Attorney                    1.0   \n",
       "664                   Assistant United States Attorney                    3.0   \n",
       "665  Special Assistant to the Assistant Attorney Ge...                    1.0   \n",
       "666           Special Assistant United States Attorney                    1.0   \n",
       "667                   Assistant United States Attorney                    1.0   \n",
       "\n",
       "                                 Admins served under_y  \n",
       "0    Obama, Bush II, Clinton, Bush I, Reagan, Carte...  \n",
       "1    Obama, Bush II, Clinton, Bush I, Reagan, Carte...  \n",
       "2    Trump, Obama, Bush II, Clinton, Bush I, Reagan...  \n",
       "3    Obama, Bush II, Clinton, Bush I, Reagan, Carte...  \n",
       "4      Obama, Bush II, Clinton, Bush I, Reagan, Carter  \n",
       "..                                                 ...  \n",
       "663                                             Reagan  \n",
       "664                                        Ford, Nixon  \n",
       "665                                            Johnson  \n",
       "666                                              Obama  \n",
       "667                                             Reagan  \n",
       "\n",
       "[668 rows x 8 columns]"
      ]
     },
     "execution_count": 33,
     "metadata": {},
     "output_type": "execute_result"
    }
   ],
   "source": [
    "intersection"
   ]
  },
  {
   "cell_type": "code",
   "execution_count": null,
   "metadata": {},
   "outputs": [],
   "source": []
  },
  {
   "cell_type": "code",
   "execution_count": null,
   "metadata": {},
   "outputs": [],
   "source": []
  }
 ],
 "metadata": {
  "anaconda-cloud": {},
  "kernelspec": {
   "display_name": "Python [conda env:root] *",
   "language": "python",
   "name": "conda-root-py"
  },
  "language_info": {
   "codemirror_mode": {
    "name": "ipython",
    "version": 3
   },
   "file_extension": ".py",
   "mimetype": "text/x-python",
   "name": "python",
   "nbconvert_exporter": "python",
   "pygments_lexer": "ipython3",
   "version": "3.7.4"
  }
 },
 "nbformat": 4,
 "nbformat_minor": 4
}
