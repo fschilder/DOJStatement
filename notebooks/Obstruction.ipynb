{
 "cells": [
  {
   "cell_type": "code",
   "execution_count": 24,
   "metadata": {},
   "outputs": [],
   "source": [
    "%matplotlib inline\n",
    "import pandas as pd\n",
    "import seaborn as sns\n"
   ]
  },
  {
   "cell_type": "code",
   "execution_count": 25,
   "metadata": {},
   "outputs": [],
   "source": [
    "prosecutors = pd.read_excel(\"../data/FederalProsecutors.xls\")"
   ]
  },
  {
   "cell_type": "code",
   "execution_count": 26,
   "metadata": {
    "collapsed": false,
    "jupyter": {
     "outputs_hidden": false
    }
   },
   "outputs": [
    {
     "data": {
      "text/html": [
       "<div>\n",
       "<style scoped>\n",
       "    .dataframe tbody tr th:only-of-type {\n",
       "        vertical-align: middle;\n",
       "    }\n",
       "\n",
       "    .dataframe tbody tr th {\n",
       "        vertical-align: top;\n",
       "    }\n",
       "\n",
       "    .dataframe thead th {\n",
       "        text-align: right;\n",
       "    }\n",
       "</style>\n",
       "<table border=\"1\" class=\"dataframe\">\n",
       "  <thead>\n",
       "    <tr style=\"text-align: right;\">\n",
       "      <th></th>\n",
       "      <th>First name</th>\n",
       "      <th>Last name</th>\n",
       "      <th>Highest DOJ title</th>\n",
       "      <th># years DOJ service</th>\n",
       "      <th>Admins served under</th>\n",
       "    </tr>\n",
       "  </thead>\n",
       "  <tbody>\n",
       "    <tr>\n",
       "      <td>0</td>\n",
       "      <td>Dennis</td>\n",
       "      <td>Dimsey</td>\n",
       "      <td>Deputy Chief, Appellate Section, Civil Rights ...</td>\n",
       "      <td>44.0</td>\n",
       "      <td>Obama, Bush II, Clinton, Bush I, Reagan, Carte...</td>\n",
       "    </tr>\n",
       "    <tr>\n",
       "      <td>1</td>\n",
       "      <td>Frederick</td>\n",
       "      <td>Hess</td>\n",
       "      <td>Director Office of Enforcement Operations, Cri...</td>\n",
       "      <td>43.0</td>\n",
       "      <td>Obama, Bush II, Clinton, Bush I, Reagan, Carte...</td>\n",
       "    </tr>\n",
       "    <tr>\n",
       "      <td>2</td>\n",
       "      <td>Burtis</td>\n",
       "      <td>Dougherty</td>\n",
       "      <td>Senior Trial Attorney</td>\n",
       "      <td>42.0</td>\n",
       "      <td>Trump, Obama, Bush II, Clinton, Bush I, Reagan...</td>\n",
       "    </tr>\n",
       "    <tr>\n",
       "      <td>3</td>\n",
       "      <td>Hays</td>\n",
       "      <td>Gorey</td>\n",
       "      <td>Trial Attorney</td>\n",
       "      <td>42.0</td>\n",
       "      <td>Obama, Bush II, Clinton, Bush I, Reagan, Carte...</td>\n",
       "    </tr>\n",
       "    <tr>\n",
       "      <td>4</td>\n",
       "      <td>Richard</td>\n",
       "      <td>Gregorie</td>\n",
       "      <td>Chief Assistant U.S. Attorney, S.D, FLA.</td>\n",
       "      <td>42.0</td>\n",
       "      <td>Trump, Obama, Bush II, Clinton, Bush I, Reagan...</td>\n",
       "    </tr>\n",
       "  </tbody>\n",
       "</table>\n",
       "</div>"
      ],
      "text/plain": [
       "  First name   Last name                                  Highest DOJ title  \\\n",
       "0     Dennis      Dimsey  Deputy Chief, Appellate Section, Civil Rights ...   \n",
       "1  Frederick        Hess  Director Office of Enforcement Operations, Cri...   \n",
       "2    Burtis   Dougherty                              Senior Trial Attorney    \n",
       "3       Hays       Gorey                                    Trial Attorney    \n",
       "4    Richard    Gregorie           Chief Assistant U.S. Attorney, S.D, FLA.   \n",
       "\n",
       "   # years DOJ service                                Admins served under  \n",
       "0                 44.0  Obama, Bush II, Clinton, Bush I, Reagan, Carte...  \n",
       "1                 43.0  Obama, Bush II, Clinton, Bush I, Reagan, Carte...  \n",
       "2                 42.0  Trump, Obama, Bush II, Clinton, Bush I, Reagan...  \n",
       "3                 42.0  Obama, Bush II, Clinton, Bush I, Reagan, Carte...  \n",
       "4                 42.0  Trump, Obama, Bush II, Clinton, Bush I, Reagan...  "
      ]
     },
     "execution_count": 26,
     "metadata": {},
     "output_type": "execute_result"
    }
   ],
   "source": [
    "prosecutors.head()"
   ]
  },
  {
   "cell_type": "code",
   "execution_count": 27,
   "metadata": {},
   "outputs": [
    {
     "data": {
      "text/plain": [
       "1027"
      ]
     },
     "execution_count": 27,
     "metadata": {},
     "output_type": "execute_result"
    }
   ],
   "source": [
    "len(prosecutors)"
   ]
  },
  {
   "cell_type": "code",
   "execution_count": 28,
   "metadata": {},
   "outputs": [],
   "source": [
    "# drop the first row (David W. Mernitz does not have a valid value for years in DOJ service)\n",
    "prosecutors = prosecutors[1:]"
   ]
  },
  {
   "cell_type": "code",
   "execution_count": 29,
   "metadata": {
    "collapsed": false,
    "jupyter": {
     "outputs_hidden": false
    }
   },
   "outputs": [],
   "source": [
    "# replace semicolons with commas for seperating admins\n",
    "prosecutors[\"Admins served under\"] = prosecutors[\"Admins served under\"].str.replace(\";\",\",\")"
   ]
  },
  {
   "cell_type": "code",
   "execution_count": 30,
   "metadata": {
    "collapsed": false,
    "jupyter": {
     "outputs_hidden": false
    }
   },
   "outputs": [
    {
     "data": {
      "text/html": [
       "<div>\n",
       "<style scoped>\n",
       "    .dataframe tbody tr th:only-of-type {\n",
       "        vertical-align: middle;\n",
       "    }\n",
       "\n",
       "    .dataframe tbody tr th {\n",
       "        vertical-align: top;\n",
       "    }\n",
       "\n",
       "    .dataframe thead th {\n",
       "        text-align: right;\n",
       "    }\n",
       "</style>\n",
       "<table border=\"1\" class=\"dataframe\">\n",
       "  <thead>\n",
       "    <tr style=\"text-align: right;\">\n",
       "      <th></th>\n",
       "      <th># years DOJ service</th>\n",
       "    </tr>\n",
       "  </thead>\n",
       "  <tbody>\n",
       "    <tr>\n",
       "      <td>count</td>\n",
       "      <td>1026.000000</td>\n",
       "    </tr>\n",
       "    <tr>\n",
       "      <td>mean</td>\n",
       "      <td>12.459064</td>\n",
       "    </tr>\n",
       "    <tr>\n",
       "      <td>std</td>\n",
       "      <td>9.824783</td>\n",
       "    </tr>\n",
       "    <tr>\n",
       "      <td>min</td>\n",
       "      <td>1.000000</td>\n",
       "    </tr>\n",
       "    <tr>\n",
       "      <td>25%</td>\n",
       "      <td>5.000000</td>\n",
       "    </tr>\n",
       "    <tr>\n",
       "      <td>50%</td>\n",
       "      <td>8.000000</td>\n",
       "    </tr>\n",
       "    <tr>\n",
       "      <td>75%</td>\n",
       "      <td>18.000000</td>\n",
       "    </tr>\n",
       "    <tr>\n",
       "      <td>max</td>\n",
       "      <td>43.000000</td>\n",
       "    </tr>\n",
       "  </tbody>\n",
       "</table>\n",
       "</div>"
      ],
      "text/plain": [
       "       # years DOJ service\n",
       "count          1026.000000\n",
       "mean             12.459064\n",
       "std               9.824783\n",
       "min               1.000000\n",
       "25%               5.000000\n",
       "50%               8.000000\n",
       "75%              18.000000\n",
       "max              43.000000"
      ]
     },
     "execution_count": 30,
     "metadata": {},
     "output_type": "execute_result"
    }
   ],
   "source": [
    "prosecutors.describe()"
   ]
  },
  {
   "cell_type": "code",
   "execution_count": 31,
   "metadata": {
    "collapsed": false,
    "jupyter": {
     "outputs_hidden": false
    }
   },
   "outputs": [
    {
     "data": {
      "text/plain": [
       "<matplotlib.axes._subplots.AxesSubplot at 0x1a21beead0>"
      ]
     },
     "execution_count": 31,
     "metadata": {},
     "output_type": "execute_result"
    },
    {
     "data": {
      "image/png": "[encoded data removed]",
      "text/plain": [
       "<Figure size 432x288 with 1 Axes>"
      ]
     },
     "metadata": {
      "needs_background": "light"
     },
     "output_type": "display_data"
    }
   ],
   "source": [
    "sns.distplot(prosecutors[\"# years DOJ service\"], bins=20, kde=False, rug=True)"
   ]
  },
  {
   "cell_type": "code",
   "execution_count": 32,
   "metadata": {
    "collapsed": false,
    "jupyter": {
     "outputs_hidden": false
    }
   },
   "outputs": [
    {
     "data": {
      "text/plain": [
       "12.45906432748538"
      ]
     },
     "execution_count": 32,
     "metadata": {},
     "output_type": "execute_result"
    }
   ],
   "source": [
    "prosecutors[\"# years DOJ service\"].mean()"
   ]
  },
  {
   "cell_type": "code",
   "execution_count": 33,
   "metadata": {
    "collapsed": false,
    "jupyter": {
     "outputs_hidden": false
    }
   },
   "outputs": [
    {
     "data": {
      "text/plain": [
       "8.0"
      ]
     },
     "execution_count": 33,
     "metadata": {},
     "output_type": "execute_result"
    }
   ],
   "source": [
    "prosecutors[\"# years DOJ service\"].median()"
   ]
  },
  {
   "cell_type": "code",
   "execution_count": 34,
   "metadata": {
    "collapsed": false,
    "jupyter": {
     "outputs_hidden": false
    }
   },
   "outputs": [],
   "source": [
    "adminDur = {'Trump':2.3,'Obama':8,\"Bush II\":8,'Clinton':8,'Bush I':4,'Reagan':8,'Carter':4,'Ford':2.34,\n",
    "           'Nixon':5.6, 'Johnson':5.15, 'Kennedy':2.84, 'Eisenhower':8}\n",
    "\n",
    "presParty = {'Trump':'R','Obama':'D',\"Bush II\":'R','Clinton':'D','Bush I':'R','Reagan':'R','Carter':'D','Ford':'R',\n",
    "           'Nixon':'R', 'Johnson':'D', 'Kennedy':'D', 'Eisenhower':'R'}\n",
    "\n",
    "# inspired by https://gist.github.com/jlln/338b4b0b55bd6984f883\n",
    "def splitDataFrameList(df,target_column,separator):\n",
    "    ''' df = dataframe to split,\n",
    "    target_column = the column containing the values to split\n",
    "    separator = the symbol used to perform the split\n",
    "    returns: a dataframe with each entry for the target column separated, with each element moved into a new row. \n",
    "    The values in the other columns are duplicated across the newly divided rows.\n",
    "    '''\n",
    "    def splitListToRows(row,row_accumulator,target_column,separator):\n",
    "        split_row = [admin.strip() for admin in row[target_column].split(separator)]\n",
    "        number_elem = len(split_row)\n",
    "        last = split_row[-1:][0]\n",
    "        for s in split_row:\n",
    "            admin = s\n",
    "            new_row = row.to_dict()\n",
    "            new_row[target_column] = admin\n",
    "            new_row[\"approx # years by admin\"] = min(adminDur[admin],row[\"# years DOJ service\"]/number_elem)\n",
    "            new_row[\"Party when started\"] = presParty[last]\n",
    "            row_accumulator.append(new_row)\n",
    "        \n",
    "    new_rows = []\n",
    "    df.apply(splitListToRows,axis=1,args = (new_rows,target_column,separator))\n",
    "    \n",
    "    new_df = pd.DataFrame(new_rows)\n",
    "    return new_df"
   ]
  },
  {
   "cell_type": "code",
   "execution_count": 35,
   "metadata": {
    "collapsed": false,
    "jupyter": {
     "outputs_hidden": false
    }
   },
   "outputs": [],
   "source": [
    "assert adminDur[\"Obama\"] == 8"
   ]
  },
  {
   "cell_type": "code",
   "execution_count": 36,
   "metadata": {
    "collapsed": false,
    "jupyter": {
     "outputs_hidden": false
    }
   },
   "outputs": [],
   "source": [
    "prosecutorsByAdmin = splitDataFrameList(prosecutors,\"Admins served under\",\",\")"
   ]
  },
  {
   "cell_type": "code",
   "execution_count": 37,
   "metadata": {
    "collapsed": false,
    "jupyter": {
     "outputs_hidden": false
    }
   },
   "outputs": [
    {
     "data": {
      "text/html": [
       "<div>\n",
       "<style scoped>\n",
       "    .dataframe tbody tr th:only-of-type {\n",
       "        vertical-align: middle;\n",
       "    }\n",
       "\n",
       "    .dataframe tbody tr th {\n",
       "        vertical-align: top;\n",
       "    }\n",
       "\n",
       "    .dataframe thead th {\n",
       "        text-align: right;\n",
       "    }\n",
       "</style>\n",
       "<table border=\"1\" class=\"dataframe\">\n",
       "  <thead>\n",
       "    <tr style=\"text-align: right;\">\n",
       "      <th></th>\n",
       "      <th>count</th>\n",
       "      <th>unique</th>\n",
       "      <th>top</th>\n",
       "      <th>freq</th>\n",
       "    </tr>\n",
       "  </thead>\n",
       "  <tbody>\n",
       "    <tr>\n",
       "      <td>First name</td>\n",
       "      <td>2989</td>\n",
       "      <td>482</td>\n",
       "      <td>Robert</td>\n",
       "      <td>132</td>\n",
       "    </tr>\n",
       "    <tr>\n",
       "      <td>Last name</td>\n",
       "      <td>2989</td>\n",
       "      <td>905</td>\n",
       "      <td>Chapman</td>\n",
       "      <td>21</td>\n",
       "    </tr>\n",
       "    <tr>\n",
       "      <td>Highest DOJ title</td>\n",
       "      <td>2989</td>\n",
       "      <td>616</td>\n",
       "      <td>Assistant U.S. Attorney</td>\n",
       "      <td>266</td>\n",
       "    </tr>\n",
       "    <tr>\n",
       "      <td># years DOJ service</td>\n",
       "      <td>2989</td>\n",
       "      <td>66</td>\n",
       "      <td>5</td>\n",
       "      <td>162</td>\n",
       "    </tr>\n",
       "    <tr>\n",
       "      <td>Admins served under</td>\n",
       "      <td>2989</td>\n",
       "      <td>12</td>\n",
       "      <td>Clinton</td>\n",
       "      <td>514</td>\n",
       "    </tr>\n",
       "    <tr>\n",
       "      <td>approx # years by admin</td>\n",
       "      <td>2989</td>\n",
       "      <td>99</td>\n",
       "      <td>4</td>\n",
       "      <td>630</td>\n",
       "    </tr>\n",
       "    <tr>\n",
       "      <td>Party when started</td>\n",
       "      <td>2989</td>\n",
       "      <td>2</td>\n",
       "      <td>R</td>\n",
       "      <td>1947</td>\n",
       "    </tr>\n",
       "  </tbody>\n",
       "</table>\n",
       "</div>"
      ],
      "text/plain": [
       "                        count unique                      top  freq\n",
       "First name               2989    482                   Robert   132\n",
       "Last name                2989    905                  Chapman    21\n",
       "Highest DOJ title        2989    616  Assistant U.S. Attorney   266\n",
       "# years DOJ service      2989     66                        5   162\n",
       "Admins served under      2989     12                  Clinton   514\n",
       "approx # years by admin  2989     99                        4   630\n",
       "Party when started       2989      2                        R  1947"
      ]
     },
     "execution_count": 37,
     "metadata": {},
     "output_type": "execute_result"
    }
   ],
   "source": [
    "prosecutorsByAdmin.astype('object').describe().transpose()"
   ]
  },
  {
   "cell_type": "code",
   "execution_count": 38,
   "metadata": {
    "collapsed": false,
    "jupyter": {
     "outputs_hidden": false
    },
    "scrolled": true
   },
   "outputs": [
    {
     "data": {
      "text/html": [
       "<div>\n",
       "<style scoped>\n",
       "    .dataframe tbody tr th:only-of-type {\n",
       "        vertical-align: middle;\n",
       "    }\n",
       "\n",
       "    .dataframe tbody tr th {\n",
       "        vertical-align: top;\n",
       "    }\n",
       "\n",
       "    .dataframe thead th {\n",
       "        text-align: right;\n",
       "    }\n",
       "</style>\n",
       "<table border=\"1\" class=\"dataframe\">\n",
       "  <thead>\n",
       "    <tr style=\"text-align: right;\">\n",
       "      <th></th>\n",
       "      <th>First name</th>\n",
       "      <th>Last name</th>\n",
       "      <th>Highest DOJ title</th>\n",
       "      <th># years DOJ service</th>\n",
       "      <th>Admins served under</th>\n",
       "      <th>approx # years by admin</th>\n",
       "      <th>Party when started</th>\n",
       "    </tr>\n",
       "  </thead>\n",
       "  <tbody>\n",
       "    <tr>\n",
       "      <td>0</td>\n",
       "      <td>Frederick</td>\n",
       "      <td>Hess</td>\n",
       "      <td>Director Office of Enforcement Operations, Cri...</td>\n",
       "      <td>43.0</td>\n",
       "      <td>Obama</td>\n",
       "      <td>4.777778</td>\n",
       "      <td>D</td>\n",
       "    </tr>\n",
       "    <tr>\n",
       "      <td>1</td>\n",
       "      <td>Frederick</td>\n",
       "      <td>Hess</td>\n",
       "      <td>Director Office of Enforcement Operations, Cri...</td>\n",
       "      <td>43.0</td>\n",
       "      <td>Bush II</td>\n",
       "      <td>4.777778</td>\n",
       "      <td>D</td>\n",
       "    </tr>\n",
       "    <tr>\n",
       "      <td>2</td>\n",
       "      <td>Frederick</td>\n",
       "      <td>Hess</td>\n",
       "      <td>Director Office of Enforcement Operations, Cri...</td>\n",
       "      <td>43.0</td>\n",
       "      <td>Clinton</td>\n",
       "      <td>4.777778</td>\n",
       "      <td>D</td>\n",
       "    </tr>\n",
       "    <tr>\n",
       "      <td>3</td>\n",
       "      <td>Frederick</td>\n",
       "      <td>Hess</td>\n",
       "      <td>Director Office of Enforcement Operations, Cri...</td>\n",
       "      <td>43.0</td>\n",
       "      <td>Bush I</td>\n",
       "      <td>4.000000</td>\n",
       "      <td>D</td>\n",
       "    </tr>\n",
       "    <tr>\n",
       "      <td>4</td>\n",
       "      <td>Frederick</td>\n",
       "      <td>Hess</td>\n",
       "      <td>Director Office of Enforcement Operations, Cri...</td>\n",
       "      <td>43.0</td>\n",
       "      <td>Reagan</td>\n",
       "      <td>4.777778</td>\n",
       "      <td>D</td>\n",
       "    </tr>\n",
       "    <tr>\n",
       "      <td>5</td>\n",
       "      <td>Frederick</td>\n",
       "      <td>Hess</td>\n",
       "      <td>Director Office of Enforcement Operations, Cri...</td>\n",
       "      <td>43.0</td>\n",
       "      <td>Carter</td>\n",
       "      <td>4.000000</td>\n",
       "      <td>D</td>\n",
       "    </tr>\n",
       "    <tr>\n",
       "      <td>6</td>\n",
       "      <td>Frederick</td>\n",
       "      <td>Hess</td>\n",
       "      <td>Director Office of Enforcement Operations, Cri...</td>\n",
       "      <td>43.0</td>\n",
       "      <td>Ford</td>\n",
       "      <td>2.340000</td>\n",
       "      <td>D</td>\n",
       "    </tr>\n",
       "    <tr>\n",
       "      <td>7</td>\n",
       "      <td>Frederick</td>\n",
       "      <td>Hess</td>\n",
       "      <td>Director Office of Enforcement Operations, Cri...</td>\n",
       "      <td>43.0</td>\n",
       "      <td>Nixon</td>\n",
       "      <td>4.777778</td>\n",
       "      <td>D</td>\n",
       "    </tr>\n",
       "    <tr>\n",
       "      <td>8</td>\n",
       "      <td>Frederick</td>\n",
       "      <td>Hess</td>\n",
       "      <td>Director Office of Enforcement Operations, Cri...</td>\n",
       "      <td>43.0</td>\n",
       "      <td>Johnson</td>\n",
       "      <td>4.777778</td>\n",
       "      <td>D</td>\n",
       "    </tr>\n",
       "  </tbody>\n",
       "</table>\n",
       "</div>"
      ],
      "text/plain": [
       "  First name Last name                                  Highest DOJ title  \\\n",
       "0  Frederick      Hess  Director Office of Enforcement Operations, Cri...   \n",
       "1  Frederick      Hess  Director Office of Enforcement Operations, Cri...   \n",
       "2  Frederick      Hess  Director Office of Enforcement Operations, Cri...   \n",
       "3  Frederick      Hess  Director Office of Enforcement Operations, Cri...   \n",
       "4  Frederick      Hess  Director Office of Enforcement Operations, Cri...   \n",
       "5  Frederick      Hess  Director Office of Enforcement Operations, Cri...   \n",
       "6  Frederick      Hess  Director Office of Enforcement Operations, Cri...   \n",
       "7  Frederick      Hess  Director Office of Enforcement Operations, Cri...   \n",
       "8  Frederick      Hess  Director Office of Enforcement Operations, Cri...   \n",
       "\n",
       "   # years DOJ service Admins served under  approx # years by admin  \\\n",
       "0                 43.0               Obama                 4.777778   \n",
       "1                 43.0             Bush II                 4.777778   \n",
       "2                 43.0             Clinton                 4.777778   \n",
       "3                 43.0              Bush I                 4.000000   \n",
       "4                 43.0              Reagan                 4.777778   \n",
       "5                 43.0              Carter                 4.000000   \n",
       "6                 43.0                Ford                 2.340000   \n",
       "7                 43.0               Nixon                 4.777778   \n",
       "8                 43.0             Johnson                 4.777778   \n",
       "\n",
       "  Party when started  \n",
       "0                  D  \n",
       "1                  D  \n",
       "2                  D  \n",
       "3                  D  \n",
       "4                  D  \n",
       "5                  D  \n",
       "6                  D  \n",
       "7                  D  \n",
       "8                  D  "
      ]
     },
     "execution_count": 38,
     "metadata": {},
     "output_type": "execute_result"
    }
   ],
   "source": [
    "prosecutorsByAdmin[0:9]"
   ]
  },
  {
   "cell_type": "code",
   "execution_count": 39,
   "metadata": {},
   "outputs": [],
   "source": [
    "unique_starting_party = prosecutorsByAdmin[[\"First name\",\"Last name\",\"# years DOJ service\",\"Party when started\"]].drop_duplicates()"
   ]
  },
  {
   "cell_type": "code",
   "execution_count": 40,
   "metadata": {
    "collapsed": false,
    "jupyter": {
     "outputs_hidden": false
    }
   },
   "outputs": [],
   "source": [
    "# checking for 12 unique admins\n",
    "assert len(prosecutorsByAdmin[\"Admins served under\"].unique()) == 12"
   ]
  },
  {
   "cell_type": "code",
   "execution_count": 41,
   "metadata": {
    "collapsed": false,
    "jupyter": {
     "outputs_hidden": false
    }
   },
   "outputs": [
    {
     "data": {
      "text/plain": [
       "<matplotlib.axes._subplots.AxesSubplot at 0x1a20e5b790>"
      ]
     },
     "execution_count": 41,
     "metadata": {},
     "output_type": "execute_result"
    },
    {
     "data": {
      "image/png": "[encoded data removed]",
      "text/plain": [
       "<Figure size 432x288 with 1 Axes>"
      ]
     },
     "metadata": {
      "needs_background": "light"
     },
     "output_type": "display_data"
    }
   ],
   "source": [
    "pd.value_counts(unique_starting_party[\"Party when started\"]).plot(kind=\"bar\")"
   ]
  },
  {
   "cell_type": "code",
   "execution_count": 42,
   "metadata": {
    "collapsed": false,
    "jupyter": {
     "outputs_hidden": false
    }
   },
   "outputs": [
    {
     "data": {
      "text/plain": [
       "<matplotlib.axes._subplots.AxesSubplot at 0x1a21db8550>"
      ]
     },
     "execution_count": 42,
     "metadata": {},
     "output_type": "execute_result"
    },
    {
     "data": {
      "image/png": "[encoded data removed]",
      "text/plain": [
       "<Figure size 432x288 with 1 Axes>"
      ]
     },
     "metadata": {
      "needs_background": "light"
     },
     "output_type": "display_data"
    }
   ],
   "source": [
    "sns.violinplot(y=\"Admins served under\",x=\"approx # years by admin\",data=prosecutorsByAdmin,estimator=sum)\n",
    "# every dervice longer than 8 years is suspicous: likely data entry error "
   ]
  },
  {
   "cell_type": "code",
   "execution_count": 43,
   "metadata": {
    "collapsed": false,
    "jupyter": {
     "outputs_hidden": false
    }
   },
   "outputs": [
    {
     "data": {
      "text/html": [
       "<div>\n",
       "<style scoped>\n",
       "    .dataframe tbody tr th:only-of-type {\n",
       "        vertical-align: middle;\n",
       "    }\n",
       "\n",
       "    .dataframe tbody tr th {\n",
       "        vertical-align: top;\n",
       "    }\n",
       "\n",
       "    .dataframe thead th {\n",
       "        text-align: right;\n",
       "    }\n",
       "</style>\n",
       "<table border=\"1\" class=\"dataframe\">\n",
       "  <thead>\n",
       "    <tr style=\"text-align: right;\">\n",
       "      <th></th>\n",
       "      <th>First name</th>\n",
       "      <th>Last name</th>\n",
       "      <th>Highest DOJ title</th>\n",
       "      <th># years DOJ service</th>\n",
       "      <th>Admins served under</th>\n",
       "      <th>approx # years by admin</th>\n",
       "      <th>Party when started</th>\n",
       "    </tr>\n",
       "  </thead>\n",
       "  <tbody>\n",
       "  </tbody>\n",
       "</table>\n",
       "</div>"
      ],
      "text/plain": [
       "Empty DataFrame\n",
       "Columns: [First name, Last name, Highest DOJ title, # years DOJ service, Admins served under, approx # years by admin, Party when started]\n",
       "Index: []"
      ]
     },
     "execution_count": 43,
     "metadata": {},
     "output_type": "execute_result"
    }
   ],
   "source": [
    "prosecutorsByAdmin[prosecutorsByAdmin[\"approx # years by admin\"]>8]"
   ]
  },
  {
   "cell_type": "code",
   "execution_count": 44,
   "metadata": {
    "collapsed": false,
    "jupyter": {
     "outputs_hidden": false
    }
   },
   "outputs": [
    {
     "data": {
      "text/html": [
       "<div>\n",
       "<style scoped>\n",
       "    .dataframe tbody tr th:only-of-type {\n",
       "        vertical-align: middle;\n",
       "    }\n",
       "\n",
       "    .dataframe tbody tr th {\n",
       "        vertical-align: top;\n",
       "    }\n",
       "\n",
       "    .dataframe thead th {\n",
       "        text-align: right;\n",
       "    }\n",
       "</style>\n",
       "<table border=\"1\" class=\"dataframe\">\n",
       "  <thead>\n",
       "    <tr style=\"text-align: right;\">\n",
       "      <th></th>\n",
       "      <th>First name</th>\n",
       "      <th>Last name</th>\n",
       "      <th>Highest DOJ title</th>\n",
       "      <th># years DOJ service</th>\n",
       "      <th>Admins served under</th>\n",
       "      <th>approx # years by admin</th>\n",
       "      <th>Party when started</th>\n",
       "    </tr>\n",
       "  </thead>\n",
       "  <tbody>\n",
       "  </tbody>\n",
       "</table>\n",
       "</div>"
      ],
      "text/plain": [
       "Empty DataFrame\n",
       "Columns: [First name, Last name, Highest DOJ title, # years DOJ service, Admins served under, approx # years by admin, Party when started]\n",
       "Index: []"
      ]
     },
     "execution_count": 44,
     "metadata": {},
     "output_type": "execute_result"
    }
   ],
   "source": [
    "prosecutorsByAdmin[prosecutorsByAdmin[\"# years DOJ service\"]<0]"
   ]
  },
  {
   "cell_type": "code",
   "execution_count": 45,
   "metadata": {
    "collapsed": false,
    "jupyter": {
     "outputs_hidden": false
    }
   },
   "outputs": [
    {
     "data": {
      "image/png": "[encoded data removed]",
      "text/plain": [
       "<Figure size 432x288 with 1 Axes>"
      ]
     },
     "metadata": {
      "needs_background": "light"
     },
     "output_type": "display_data"
    }
   ],
   "source": [
    "ax = sns.barplot(y=\"Admins served under\",x=\"approx # years by admin\",data=prosecutorsByAdmin,estimator=sum)"
   ]
  },
  {
   "cell_type": "code",
   "execution_count": 46,
   "metadata": {
    "collapsed": false,
    "jupyter": {
     "outputs_hidden": false
    }
   },
   "outputs": [
    {
     "data": {
      "text/html": [
       "<div>\n",
       "<style scoped>\n",
       "    .dataframe tbody tr th:only-of-type {\n",
       "        vertical-align: middle;\n",
       "    }\n",
       "\n",
       "    .dataframe tbody tr th {\n",
       "        vertical-align: top;\n",
       "    }\n",
       "\n",
       "    .dataframe thead th {\n",
       "        text-align: right;\n",
       "    }\n",
       "</style>\n",
       "<table border=\"1\" class=\"dataframe\">\n",
       "  <thead>\n",
       "    <tr style=\"text-align: right;\">\n",
       "      <th></th>\n",
       "      <th>First name</th>\n",
       "      <th>Last name</th>\n",
       "      <th>Highest DOJ title</th>\n",
       "      <th># years DOJ service</th>\n",
       "      <th>Admins served under</th>\n",
       "      <th>approx # years by admin</th>\n",
       "      <th>Party when started</th>\n",
       "    </tr>\n",
       "  </thead>\n",
       "  <tbody>\n",
       "    <tr>\n",
       "      <td>9</td>\n",
       "      <td>Burtis</td>\n",
       "      <td>Dougherty</td>\n",
       "      <td>Senior Trial Attorney</td>\n",
       "      <td>42.0</td>\n",
       "      <td>Trump</td>\n",
       "      <td>2.30</td>\n",
       "      <td>R</td>\n",
       "    </tr>\n",
       "    <tr>\n",
       "      <td>25</td>\n",
       "      <td>Richard</td>\n",
       "      <td>Gregorie</td>\n",
       "      <td>Chief Assistant U.S. Attorney, S.D, FLA.</td>\n",
       "      <td>42.0</td>\n",
       "      <td>Trump</td>\n",
       "      <td>2.30</td>\n",
       "      <td>R</td>\n",
       "    </tr>\n",
       "    <tr>\n",
       "      <td>42</td>\n",
       "      <td>John</td>\n",
       "      <td>Kolar</td>\n",
       "      <td>Senior Trial Counsel</td>\n",
       "      <td>41.0</td>\n",
       "      <td>Trump</td>\n",
       "      <td>2.30</td>\n",
       "      <td>R</td>\n",
       "    </tr>\n",
       "    <tr>\n",
       "      <td>50</td>\n",
       "      <td>Theodore</td>\n",
       "      <td>Merritt</td>\n",
       "      <td>AUSA</td>\n",
       "      <td>41.0</td>\n",
       "      <td>Trump</td>\n",
       "      <td>2.30</td>\n",
       "      <td>D</td>\n",
       "    </tr>\n",
       "    <tr>\n",
       "      <td>86</td>\n",
       "      <td>John</td>\n",
       "      <td>Vaudreuil</td>\n",
       "      <td>Presidentially Appointed US Attorney, Western ...</td>\n",
       "      <td>38.0</td>\n",
       "      <td>Trump</td>\n",
       "      <td>2.30</td>\n",
       "      <td>D</td>\n",
       "    </tr>\n",
       "    <tr>\n",
       "      <td>...</td>\n",
       "      <td>...</td>\n",
       "      <td>...</td>\n",
       "      <td>...</td>\n",
       "      <td>...</td>\n",
       "      <td>...</td>\n",
       "      <td>...</td>\n",
       "      <td>...</td>\n",
       "    </tr>\n",
       "    <tr>\n",
       "      <td>2941</td>\n",
       "      <td>Michael</td>\n",
       "      <td>Berry</td>\n",
       "      <td>Assistant U.S. Attorney</td>\n",
       "      <td>2.5</td>\n",
       "      <td>Trump</td>\n",
       "      <td>1.25</td>\n",
       "      <td>D</td>\n",
       "    </tr>\n",
       "    <tr>\n",
       "      <td>2956</td>\n",
       "      <td>C. Mitchell</td>\n",
       "      <td>Hendy</td>\n",
       "      <td>Assistant US Attorney</td>\n",
       "      <td>2.0</td>\n",
       "      <td>Trump</td>\n",
       "      <td>1.00</td>\n",
       "      <td>D</td>\n",
       "    </tr>\n",
       "    <tr>\n",
       "      <td>2964</td>\n",
       "      <td>Ryan</td>\n",
       "      <td>Malone</td>\n",
       "      <td>Assistant United States Attorney</td>\n",
       "      <td>2.0</td>\n",
       "      <td>Trump</td>\n",
       "      <td>1.00</td>\n",
       "      <td>D</td>\n",
       "    </tr>\n",
       "    <tr>\n",
       "      <td>2974</td>\n",
       "      <td>Somil</td>\n",
       "      <td>Trivedi</td>\n",
       "      <td>Trial Attorney</td>\n",
       "      <td>1.0</td>\n",
       "      <td>Trump</td>\n",
       "      <td>0.50</td>\n",
       "      <td>D</td>\n",
       "    </tr>\n",
       "    <tr>\n",
       "      <td>2981</td>\n",
       "      <td>Gary</td>\n",
       "      <td>Leuis</td>\n",
       "      <td>Special Assistant United States Attorney</td>\n",
       "      <td>1.0</td>\n",
       "      <td>Trump</td>\n",
       "      <td>1.00</td>\n",
       "      <td>R</td>\n",
       "    </tr>\n",
       "  </tbody>\n",
       "</table>\n",
       "<p>68 rows × 7 columns</p>\n",
       "</div>"
      ],
      "text/plain": [
       "       First name   Last name  \\\n",
       "9         Burtis   Dougherty    \n",
       "25        Richard    Gregorie   \n",
       "42           John       Kolar   \n",
       "50      Theodore      Merritt   \n",
       "86           John   Vaudreuil   \n",
       "...           ...         ...   \n",
       "2941      Michael       Berry   \n",
       "2956  C. Mitchell       Hendy   \n",
       "2964         Ryan      Malone   \n",
       "2974        Somil     Trivedi   \n",
       "2981         Gary       Leuis   \n",
       "\n",
       "                                      Highest DOJ title  # years DOJ service  \\\n",
       "9                                Senior Trial Attorney                  42.0   \n",
       "25             Chief Assistant U.S. Attorney, S.D, FLA.                 42.0   \n",
       "42                                 Senior Trial Counsel                 41.0   \n",
       "50                                                 AUSA                 41.0   \n",
       "86    Presidentially Appointed US Attorney, Western ...                 38.0   \n",
       "...                                                 ...                  ...   \n",
       "2941                            Assistant U.S. Attorney                  2.5   \n",
       "2956                              Assistant US Attorney                  2.0   \n",
       "2964                   Assistant United States Attorney                  2.0   \n",
       "2974                                     Trial Attorney                  1.0   \n",
       "2981          Special Assistant United States Attorney                   1.0   \n",
       "\n",
       "     Admins served under  approx # years by admin Party when started  \n",
       "9                  Trump                     2.30                  R  \n",
       "25                 Trump                     2.30                  R  \n",
       "42                 Trump                     2.30                  R  \n",
       "50                 Trump                     2.30                  D  \n",
       "86                 Trump                     2.30                  D  \n",
       "...                  ...                      ...                ...  \n",
       "2941               Trump                     1.25                  D  \n",
       "2956               Trump                     1.00                  D  \n",
       "2964               Trump                     1.00                  D  \n",
       "2974               Trump                     0.50                  D  \n",
       "2981               Trump                     1.00                  R  \n",
       "\n",
       "[68 rows x 7 columns]"
      ]
     },
     "execution_count": 46,
     "metadata": {},
     "output_type": "execute_result"
    }
   ],
   "source": [
    "prosecutorsByAdmin[prosecutorsByAdmin[\"Admins served under\"]==\"Trump\"].sort_values([\"# years DOJ service\"],ascending =  False)"
   ]
  },
  {
   "cell_type": "code",
   "execution_count": null,
   "metadata": {
    "collapsed": true,
    "jupyter": {
     "outputs_hidden": true
    }
   },
   "outputs": [],
   "source": []
  }
 ],
 "metadata": {
  "anaconda-cloud": {},
  "kernelspec": {
   "display_name": "Python [conda env:root] *",
   "language": "python",
   "name": "conda-root-py"
  },
  "language_info": {
   "codemirror_mode": {
    "name": "ipython",
    "version": 3
   },
   "file_extension": ".py",
   "mimetype": "text/x-python",
   "name": "python",
   "nbconvert_exporter": "python",
   "pygments_lexer": "ipython3",
   "version": "3.7.4"
  }
 },
 "nbformat": 4,
 "nbformat_minor": 4
}
