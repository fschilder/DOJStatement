{
 "cells": [
  {
   "cell_type": "code",
   "execution_count": 2,
   "metadata": {},
   "outputs": [],
   "source": [
    "%matplotlib inline\n",
    "import pandas as pd\n",
    "import seaborn as sns\n"
   ]
  },
  {
   "cell_type": "code",
   "execution_count": 3,
   "metadata": {},
   "outputs": [],
   "source": [
    "prosecutors = pd.read_csv(\"../data/FlynnResign.csv\")"
   ]
  },
  {
   "cell_type": "code",
   "execution_count": 4,
   "metadata": {
    "jupyter": {
     "outputs_hidden": false
    }
   },
   "outputs": [
    {
     "data": {
      "text/html": [
       "<div>\n",
       "<style scoped>\n",
       "    .dataframe tbody tr th:only-of-type {\n",
       "        vertical-align: middle;\n",
       "    }\n",
       "\n",
       "    .dataframe tbody tr th {\n",
       "        vertical-align: top;\n",
       "    }\n",
       "\n",
       "    .dataframe thead th {\n",
       "        text-align: right;\n",
       "    }\n",
       "</style>\n",
       "<table border=\"1\" class=\"dataframe\">\n",
       "  <thead>\n",
       "    <tr style=\"text-align: right;\">\n",
       "      <th></th>\n",
       "      <th>First name</th>\n",
       "      <th>Last name</th>\n",
       "      <th>Highest DOJ title</th>\n",
       "      <th># years DOJ service</th>\n",
       "      <th>Admins served under</th>\n",
       "    </tr>\n",
       "  </thead>\n",
       "  <tbody>\n",
       "    <tr>\n",
       "      <td>0</td>\n",
       "      <td>Dianne</td>\n",
       "      <td>(Kelly) Sanford</td>\n",
       "      <td>Assistant Chief, Environmental Enforcement Sec...</td>\n",
       "      <td>13.0</td>\n",
       "      <td>Bush I, Reagan, Carter</td>\n",
       "    </tr>\n",
       "    <tr>\n",
       "      <td>1</td>\n",
       "      <td>Erin</td>\n",
       "      <td>(Powell) Vespe</td>\n",
       "      <td>Trial Attorney</td>\n",
       "      <td>4.5</td>\n",
       "      <td>Bush II, Clinton</td>\n",
       "    </tr>\n",
       "    <tr>\n",
       "      <td>2</td>\n",
       "      <td>Julie</td>\n",
       "      <td>Abbate</td>\n",
       "      <td>Deputy Chief, Special Litigation Section, Civi...</td>\n",
       "      <td>15.0</td>\n",
       "      <td>Trump, Obama, Bush II</td>\n",
       "    </tr>\n",
       "    <tr>\n",
       "      <td>3</td>\n",
       "      <td>Jonathan</td>\n",
       "      <td>Abernethy</td>\n",
       "      <td>Assistant United States Attorney</td>\n",
       "      <td>7.0</td>\n",
       "      <td>Bush II</td>\n",
       "    </tr>\n",
       "    <tr>\n",
       "      <td>4</td>\n",
       "      <td>Elkan</td>\n",
       "      <td>Abramowitz</td>\n",
       "      <td>Chief, Criminal Division, SDNY</td>\n",
       "      <td>6.0</td>\n",
       "      <td>Carter, Ford, Nixon, Johnson</td>\n",
       "    </tr>\n",
       "  </tbody>\n",
       "</table>\n",
       "</div>"
      ],
      "text/plain": [
       "  First name        Last name  \\\n",
       "0     Dianne  (Kelly) Sanford   \n",
       "1       Erin   (Powell) Vespe   \n",
       "2      Julie           Abbate   \n",
       "3   Jonathan        Abernethy   \n",
       "4      Elkan      Abramowitz    \n",
       "\n",
       "                                   Highest DOJ title  # years DOJ service  \\\n",
       "0  Assistant Chief, Environmental Enforcement Sec...                 13.0   \n",
       "1                                     Trial Attorney                  4.5   \n",
       "2  Deputy Chief, Special Litigation Section, Civi...                 15.0   \n",
       "3                  Assistant United States Attorney                   7.0   \n",
       "4                     Chief, Criminal Division, SDNY                  6.0   \n",
       "\n",
       "            Admins served under  \n",
       "0        Bush I, Reagan, Carter  \n",
       "1              Bush II, Clinton  \n",
       "2         Trump, Obama, Bush II  \n",
       "3                       Bush II  \n",
       "4  Carter, Ford, Nixon, Johnson  "
      ]
     },
     "execution_count": 4,
     "metadata": {},
     "output_type": "execute_result"
    }
   ],
   "source": [
    "prosecutors.head()"
   ]
  },
  {
   "cell_type": "code",
   "execution_count": 5,
   "metadata": {},
   "outputs": [
    {
     "data": {
      "text/html": [
       "<div>\n",
       "<style scoped>\n",
       "    .dataframe tbody tr th:only-of-type {\n",
       "        vertical-align: middle;\n",
       "    }\n",
       "\n",
       "    .dataframe tbody tr th {\n",
       "        vertical-align: top;\n",
       "    }\n",
       "\n",
       "    .dataframe thead th {\n",
       "        text-align: right;\n",
       "    }\n",
       "</style>\n",
       "<table border=\"1\" class=\"dataframe\">\n",
       "  <thead>\n",
       "    <tr style=\"text-align: right;\">\n",
       "      <th></th>\n",
       "      <th># years DOJ service</th>\n",
       "    </tr>\n",
       "  </thead>\n",
       "  <tbody>\n",
       "    <tr>\n",
       "      <td>count</td>\n",
       "      <td>1955.000000</td>\n",
       "    </tr>\n",
       "    <tr>\n",
       "      <td>mean</td>\n",
       "      <td>12.919130</td>\n",
       "    </tr>\n",
       "    <tr>\n",
       "      <td>std</td>\n",
       "      <td>10.601451</td>\n",
       "    </tr>\n",
       "    <tr>\n",
       "      <td>min</td>\n",
       "      <td>0.400000</td>\n",
       "    </tr>\n",
       "    <tr>\n",
       "      <td>25%</td>\n",
       "      <td>5.000000</td>\n",
       "    </tr>\n",
       "    <tr>\n",
       "      <td>50%</td>\n",
       "      <td>8.000000</td>\n",
       "    </tr>\n",
       "    <tr>\n",
       "      <td>75%</td>\n",
       "      <td>20.000000</td>\n",
       "    </tr>\n",
       "    <tr>\n",
       "      <td>max</td>\n",
       "      <td>52.000000</td>\n",
       "    </tr>\n",
       "  </tbody>\n",
       "</table>\n",
       "</div>"
      ],
      "text/plain": [
       "       # years DOJ service\n",
       "count          1955.000000\n",
       "mean             12.919130\n",
       "std              10.601451\n",
       "min               0.400000\n",
       "25%               5.000000\n",
       "50%               8.000000\n",
       "75%              20.000000\n",
       "max              52.000000"
      ]
     },
     "execution_count": 5,
     "metadata": {},
     "output_type": "execute_result"
    }
   ],
   "source": [
    "prosecutors.describe()"
   ]
  },
  {
   "cell_type": "code",
   "execution_count": 6,
   "metadata": {
    "jupyter": {
     "outputs_hidden": false
    }
   },
   "outputs": [],
   "source": [
    "# replace semicolons with commas for seperating admins\n",
    "prosecutors[\"Admins served under\"] = prosecutors[\"Admins served under\"].str.replace(\";\",\",\")"
   ]
  },
  {
   "cell_type": "code",
   "execution_count": 7,
   "metadata": {
    "jupyter": {
     "outputs_hidden": false
    }
   },
   "outputs": [
    {
     "data": {
      "text/html": [
       "<div>\n",
       "<style scoped>\n",
       "    .dataframe tbody tr th:only-of-type {\n",
       "        vertical-align: middle;\n",
       "    }\n",
       "\n",
       "    .dataframe tbody tr th {\n",
       "        vertical-align: top;\n",
       "    }\n",
       "\n",
       "    .dataframe thead th {\n",
       "        text-align: right;\n",
       "    }\n",
       "</style>\n",
       "<table border=\"1\" class=\"dataframe\">\n",
       "  <thead>\n",
       "    <tr style=\"text-align: right;\">\n",
       "      <th></th>\n",
       "      <th># years DOJ service</th>\n",
       "    </tr>\n",
       "  </thead>\n",
       "  <tbody>\n",
       "    <tr>\n",
       "      <td>count</td>\n",
       "      <td>1955.000000</td>\n",
       "    </tr>\n",
       "    <tr>\n",
       "      <td>mean</td>\n",
       "      <td>12.919130</td>\n",
       "    </tr>\n",
       "    <tr>\n",
       "      <td>std</td>\n",
       "      <td>10.601451</td>\n",
       "    </tr>\n",
       "    <tr>\n",
       "      <td>min</td>\n",
       "      <td>0.400000</td>\n",
       "    </tr>\n",
       "    <tr>\n",
       "      <td>25%</td>\n",
       "      <td>5.000000</td>\n",
       "    </tr>\n",
       "    <tr>\n",
       "      <td>50%</td>\n",
       "      <td>8.000000</td>\n",
       "    </tr>\n",
       "    <tr>\n",
       "      <td>75%</td>\n",
       "      <td>20.000000</td>\n",
       "    </tr>\n",
       "    <tr>\n",
       "      <td>max</td>\n",
       "      <td>52.000000</td>\n",
       "    </tr>\n",
       "  </tbody>\n",
       "</table>\n",
       "</div>"
      ],
      "text/plain": [
       "       # years DOJ service\n",
       "count          1955.000000\n",
       "mean             12.919130\n",
       "std              10.601451\n",
       "min               0.400000\n",
       "25%               5.000000\n",
       "50%               8.000000\n",
       "75%              20.000000\n",
       "max              52.000000"
      ]
     },
     "execution_count": 7,
     "metadata": {},
     "output_type": "execute_result"
    }
   ],
   "source": [
    "prosecutors.describe()"
   ]
  },
  {
   "cell_type": "code",
   "execution_count": 33,
   "metadata": {
    "jupyter": {
     "outputs_hidden": false
    }
   },
   "outputs": [
    {
     "data": {
      "text/plain": [
       "<matplotlib.axes._subplots.AxesSubplot at 0x1a191d11d0>"
      ]
     },
     "execution_count": 33,
     "metadata": {},
     "output_type": "execute_result"
    },
    {
     "data": {
      "image/png": "[encoded data removed]",
      "text/plain": [
       "<Figure size 432x288 with 1 Axes>"
      ]
     },
     "metadata": {
      "needs_background": "light"
     },
     "output_type": "display_data"
    }
   ],
   "source": [
    "sns.distplot(prosecutors[\"# years DOJ service\"], bins=50, kde=False, rug=True)"
   ]
  },
  {
   "cell_type": "code",
   "execution_count": 9,
   "metadata": {
    "jupyter": {
     "outputs_hidden": false
    }
   },
   "outputs": [
    {
     "data": {
      "text/plain": [
       "12.919130434782609"
      ]
     },
     "execution_count": 9,
     "metadata": {},
     "output_type": "execute_result"
    }
   ],
   "source": [
    "prosecutors[\"# years DOJ service\"].mean()"
   ]
  },
  {
   "cell_type": "code",
   "execution_count": 10,
   "metadata": {
    "jupyter": {
     "outputs_hidden": false
    }
   },
   "outputs": [
    {
     "data": {
      "text/plain": [
       "8.0"
      ]
     },
     "execution_count": 10,
     "metadata": {},
     "output_type": "execute_result"
    }
   ],
   "source": [
    "prosecutors[\"# years DOJ service\"].median()"
   ]
  },
  {
   "cell_type": "code",
   "execution_count": 11,
   "metadata": {
    "jupyter": {
     "outputs_hidden": false
    }
   },
   "outputs": [],
   "source": [
    "adminDur = {'Trump':2.3,'Obama':8,\"Bush II\":8,'Clinton':8,'Bush I':4,'Reagan':8,'Carter':4,'Ford':2.34,\n",
    "           'Nixon':5.6, 'Johnson':5.15, 'Kennedy':2.84, 'Eisenhower':8}\n",
    "\n",
    "presParty = {'Trump':'R','Obama':'D',\"Bush II\":'R','Clinton':'D','Bush I':'R','Reagan':'R','Carter':'D','Ford':'R',\n",
    "           'Nixon':'R', 'Johnson':'D', 'Kennedy':'D', 'Eisenhower':'R'}\n",
    "\n",
    "# inspired by https://gist.github.com/jlln/338b4b0b55bd6984f883\n",
    "def splitDataFrameList(df,target_column,separator):\n",
    "    ''' df = dataframe to split,\n",
    "    target_column = the column containing the values to split\n",
    "    separator = the symbol used to perform the split\n",
    "    returns: a dataframe with each entry for the target column separated, with each element moved into a new row. \n",
    "    The values in the other columns are duplicated across the newly divided rows.\n",
    "    '''\n",
    "    def splitListToRows(row,row_accumulator,target_column,separator):\n",
    "        split_row = [admin.strip() for admin in row[target_column].split(separator)]\n",
    "        number_elem = len(split_row)\n",
    "        last = split_row[-1:][0]\n",
    "        for s in split_row:\n",
    "            admin = s\n",
    "            new_row = row.to_dict()\n",
    "            new_row[target_column] = admin\n",
    "            new_row[\"approx # years by admin\"] = min(adminDur[admin],row[\"# years DOJ service\"]/number_elem)\n",
    "            new_row[\"Party when started\"] = presParty[last]\n",
    "            row_accumulator.append(new_row)\n",
    "        \n",
    "    new_rows = []\n",
    "    df.apply(splitListToRows,axis=1,args = (new_rows,target_column,separator))\n",
    "    \n",
    "    new_df = pd.DataFrame(new_rows)\n",
    "    return new_df"
   ]
  },
  {
   "cell_type": "code",
   "execution_count": 12,
   "metadata": {
    "jupyter": {
     "outputs_hidden": false
    }
   },
   "outputs": [],
   "source": [
    "assert adminDur[\"Obama\"] == 8"
   ]
  },
  {
   "cell_type": "code",
   "execution_count": 13,
   "metadata": {
    "jupyter": {
     "outputs_hidden": false
    }
   },
   "outputs": [],
   "source": [
    "prosecutorsByAdmin = splitDataFrameList(prosecutors,\"Admins served under\",\",\")"
   ]
  },
  {
   "cell_type": "code",
   "execution_count": 14,
   "metadata": {
    "jupyter": {
     "outputs_hidden": false
    }
   },
   "outputs": [
    {
     "data": {
      "text/html": [
       "<div>\n",
       "<style scoped>\n",
       "    .dataframe tbody tr th:only-of-type {\n",
       "        vertical-align: middle;\n",
       "    }\n",
       "\n",
       "    .dataframe tbody tr th {\n",
       "        vertical-align: top;\n",
       "    }\n",
       "\n",
       "    .dataframe thead th {\n",
       "        text-align: right;\n",
       "    }\n",
       "</style>\n",
       "<table border=\"1\" class=\"dataframe\">\n",
       "  <thead>\n",
       "    <tr style=\"text-align: right;\">\n",
       "      <th></th>\n",
       "      <th>count</th>\n",
       "      <th>unique</th>\n",
       "      <th>top</th>\n",
       "      <th>freq</th>\n",
       "    </tr>\n",
       "  </thead>\n",
       "  <tbody>\n",
       "    <tr>\n",
       "      <td>First name</td>\n",
       "      <td>5846</td>\n",
       "      <td>763</td>\n",
       "      <td>Robert</td>\n",
       "      <td>213</td>\n",
       "    </tr>\n",
       "    <tr>\n",
       "      <td>Last name</td>\n",
       "      <td>5846</td>\n",
       "      <td>1656</td>\n",
       "      <td>Smith</td>\n",
       "      <td>38</td>\n",
       "    </tr>\n",
       "    <tr>\n",
       "      <td>Highest DOJ title</td>\n",
       "      <td>5846</td>\n",
       "      <td>977</td>\n",
       "      <td>Assistant United States Attorney</td>\n",
       "      <td>840</td>\n",
       "    </tr>\n",
       "    <tr>\n",
       "      <td># years DOJ service</td>\n",
       "      <td>5846</td>\n",
       "      <td>82</td>\n",
       "      <td>6</td>\n",
       "      <td>291</td>\n",
       "    </tr>\n",
       "    <tr>\n",
       "      <td>Admins served under</td>\n",
       "      <td>5846</td>\n",
       "      <td>12</td>\n",
       "      <td>Clinton</td>\n",
       "      <td>994</td>\n",
       "    </tr>\n",
       "    <tr>\n",
       "      <td>approx # years by admin</td>\n",
       "      <td>5846</td>\n",
       "      <td>119</td>\n",
       "      <td>4</td>\n",
       "      <td>1157</td>\n",
       "    </tr>\n",
       "    <tr>\n",
       "      <td>Party when started</td>\n",
       "      <td>5846</td>\n",
       "      <td>2</td>\n",
       "      <td>R</td>\n",
       "      <td>3594</td>\n",
       "    </tr>\n",
       "  </tbody>\n",
       "</table>\n",
       "</div>"
      ],
      "text/plain": [
       "                        count unique                               top  freq\n",
       "First name               5846    763                            Robert   213\n",
       "Last name                5846   1656                             Smith    38\n",
       "Highest DOJ title        5846    977  Assistant United States Attorney   840\n",
       "# years DOJ service      5846     82                                 6   291\n",
       "Admins served under      5846     12                           Clinton   994\n",
       "approx # years by admin  5846    119                                 4  1157\n",
       "Party when started       5846      2                                 R  3594"
      ]
     },
     "execution_count": 14,
     "metadata": {},
     "output_type": "execute_result"
    }
   ],
   "source": [
    "prosecutorsByAdmin.astype('object').describe().transpose()"
   ]
  },
  {
   "cell_type": "code",
   "execution_count": 15,
   "metadata": {
    "jupyter": {
     "outputs_hidden": false
    },
    "scrolled": true
   },
   "outputs": [
    {
     "data": {
      "text/html": [
       "<div>\n",
       "<style scoped>\n",
       "    .dataframe tbody tr th:only-of-type {\n",
       "        vertical-align: middle;\n",
       "    }\n",
       "\n",
       "    .dataframe tbody tr th {\n",
       "        vertical-align: top;\n",
       "    }\n",
       "\n",
       "    .dataframe thead th {\n",
       "        text-align: right;\n",
       "    }\n",
       "</style>\n",
       "<table border=\"1\" class=\"dataframe\">\n",
       "  <thead>\n",
       "    <tr style=\"text-align: right;\">\n",
       "      <th></th>\n",
       "      <th>First name</th>\n",
       "      <th>Last name</th>\n",
       "      <th>Highest DOJ title</th>\n",
       "      <th># years DOJ service</th>\n",
       "      <th>Admins served under</th>\n",
       "      <th>approx # years by admin</th>\n",
       "      <th>Party when started</th>\n",
       "    </tr>\n",
       "  </thead>\n",
       "  <tbody>\n",
       "    <tr>\n",
       "      <td>0</td>\n",
       "      <td>Dianne</td>\n",
       "      <td>(Kelly) Sanford</td>\n",
       "      <td>Assistant Chief, Environmental Enforcement Sec...</td>\n",
       "      <td>13.0</td>\n",
       "      <td>Bush I</td>\n",
       "      <td>4.000000</td>\n",
       "      <td>D</td>\n",
       "    </tr>\n",
       "    <tr>\n",
       "      <td>1</td>\n",
       "      <td>Dianne</td>\n",
       "      <td>(Kelly) Sanford</td>\n",
       "      <td>Assistant Chief, Environmental Enforcement Sec...</td>\n",
       "      <td>13.0</td>\n",
       "      <td>Reagan</td>\n",
       "      <td>4.333333</td>\n",
       "      <td>D</td>\n",
       "    </tr>\n",
       "    <tr>\n",
       "      <td>2</td>\n",
       "      <td>Dianne</td>\n",
       "      <td>(Kelly) Sanford</td>\n",
       "      <td>Assistant Chief, Environmental Enforcement Sec...</td>\n",
       "      <td>13.0</td>\n",
       "      <td>Carter</td>\n",
       "      <td>4.000000</td>\n",
       "      <td>D</td>\n",
       "    </tr>\n",
       "    <tr>\n",
       "      <td>3</td>\n",
       "      <td>Erin</td>\n",
       "      <td>(Powell) Vespe</td>\n",
       "      <td>Trial Attorney</td>\n",
       "      <td>4.5</td>\n",
       "      <td>Bush II</td>\n",
       "      <td>2.250000</td>\n",
       "      <td>D</td>\n",
       "    </tr>\n",
       "    <tr>\n",
       "      <td>4</td>\n",
       "      <td>Erin</td>\n",
       "      <td>(Powell) Vespe</td>\n",
       "      <td>Trial Attorney</td>\n",
       "      <td>4.5</td>\n",
       "      <td>Clinton</td>\n",
       "      <td>2.250000</td>\n",
       "      <td>D</td>\n",
       "    </tr>\n",
       "    <tr>\n",
       "      <td>5</td>\n",
       "      <td>Julie</td>\n",
       "      <td>Abbate</td>\n",
       "      <td>Deputy Chief, Special Litigation Section, Civi...</td>\n",
       "      <td>15.0</td>\n",
       "      <td>Trump</td>\n",
       "      <td>2.300000</td>\n",
       "      <td>R</td>\n",
       "    </tr>\n",
       "    <tr>\n",
       "      <td>6</td>\n",
       "      <td>Julie</td>\n",
       "      <td>Abbate</td>\n",
       "      <td>Deputy Chief, Special Litigation Section, Civi...</td>\n",
       "      <td>15.0</td>\n",
       "      <td>Obama</td>\n",
       "      <td>5.000000</td>\n",
       "      <td>R</td>\n",
       "    </tr>\n",
       "    <tr>\n",
       "      <td>7</td>\n",
       "      <td>Julie</td>\n",
       "      <td>Abbate</td>\n",
       "      <td>Deputy Chief, Special Litigation Section, Civi...</td>\n",
       "      <td>15.0</td>\n",
       "      <td>Bush II</td>\n",
       "      <td>5.000000</td>\n",
       "      <td>R</td>\n",
       "    </tr>\n",
       "    <tr>\n",
       "      <td>8</td>\n",
       "      <td>Jonathan</td>\n",
       "      <td>Abernethy</td>\n",
       "      <td>Assistant United States Attorney</td>\n",
       "      <td>7.0</td>\n",
       "      <td>Bush II</td>\n",
       "      <td>7.000000</td>\n",
       "      <td>R</td>\n",
       "    </tr>\n",
       "  </tbody>\n",
       "</table>\n",
       "</div>"
      ],
      "text/plain": [
       "  First name        Last name  \\\n",
       "0     Dianne  (Kelly) Sanford   \n",
       "1     Dianne  (Kelly) Sanford   \n",
       "2     Dianne  (Kelly) Sanford   \n",
       "3       Erin   (Powell) Vespe   \n",
       "4       Erin   (Powell) Vespe   \n",
       "5      Julie           Abbate   \n",
       "6      Julie           Abbate   \n",
       "7      Julie           Abbate   \n",
       "8   Jonathan        Abernethy   \n",
       "\n",
       "                                   Highest DOJ title  # years DOJ service  \\\n",
       "0  Assistant Chief, Environmental Enforcement Sec...                 13.0   \n",
       "1  Assistant Chief, Environmental Enforcement Sec...                 13.0   \n",
       "2  Assistant Chief, Environmental Enforcement Sec...                 13.0   \n",
       "3                                     Trial Attorney                  4.5   \n",
       "4                                     Trial Attorney                  4.5   \n",
       "5  Deputy Chief, Special Litigation Section, Civi...                 15.0   \n",
       "6  Deputy Chief, Special Litigation Section, Civi...                 15.0   \n",
       "7  Deputy Chief, Special Litigation Section, Civi...                 15.0   \n",
       "8                  Assistant United States Attorney                   7.0   \n",
       "\n",
       "  Admins served under  approx # years by admin Party when started  \n",
       "0              Bush I                 4.000000                  D  \n",
       "1              Reagan                 4.333333                  D  \n",
       "2              Carter                 4.000000                  D  \n",
       "3             Bush II                 2.250000                  D  \n",
       "4             Clinton                 2.250000                  D  \n",
       "5               Trump                 2.300000                  R  \n",
       "6               Obama                 5.000000                  R  \n",
       "7             Bush II                 5.000000                  R  \n",
       "8             Bush II                 7.000000                  R  "
      ]
     },
     "execution_count": 15,
     "metadata": {},
     "output_type": "execute_result"
    }
   ],
   "source": [
    "prosecutorsByAdmin[0:9]"
   ]
  },
  {
   "cell_type": "code",
   "execution_count": 16,
   "metadata": {},
   "outputs": [],
   "source": [
    "unique_starting_party = prosecutorsByAdmin[[\"First name\",\"Last name\",\"# years DOJ service\",\"Party when started\"]].drop_duplicates()"
   ]
  },
  {
   "cell_type": "code",
   "execution_count": 17,
   "metadata": {
    "jupyter": {
     "outputs_hidden": false
    }
   },
   "outputs": [],
   "source": [
    "# checking for 12 unique admins\n",
    "assert len(prosecutorsByAdmin[\"Admins served under\"].unique()) == 12"
   ]
  },
  {
   "cell_type": "code",
   "execution_count": 18,
   "metadata": {},
   "outputs": [
    {
     "data": {
      "text/plain": [
       "R    1119\n",
       "D     835\n",
       "Name: Party when started, dtype: int64"
      ]
     },
     "execution_count": 18,
     "metadata": {},
     "output_type": "execute_result"
    }
   ],
   "source": [
    "pd.value_counts(unique_starting_party[\"Party when started\"])"
   ]
  },
  {
   "cell_type": "code",
   "execution_count": 19,
   "metadata": {
    "jupyter": {
     "outputs_hidden": false
    }
   },
   "outputs": [
    {
     "data": {
      "text/plain": [
       "<matplotlib.axes._subplots.AxesSubplot at 0x1a19225590>"
      ]
     },
     "execution_count": 19,
     "metadata": {},
     "output_type": "execute_result"
    },
    {
     "data": {
      "image/png": "[encoded data removed]",
      "text/plain": [
       "<Figure size 432x288 with 1 Axes>"
      ]
     },
     "metadata": {
      "needs_background": "light"
     },
     "output_type": "display_data"
    }
   ],
   "source": [
    "pd.value_counts(unique_starting_party[\"Party when started\"]).plot(kind=\"bar\")"
   ]
  },
  {
   "cell_type": "code",
   "execution_count": 20,
   "metadata": {
    "jupyter": {
     "outputs_hidden": false
    }
   },
   "outputs": [
    {
     "data": {
      "text/plain": [
       "<matplotlib.axes._subplots.AxesSubplot at 0x1a1900a4d0>"
      ]
     },
     "execution_count": 20,
     "metadata": {},
     "output_type": "execute_result"
    },
    {
     "data": {
      "image/png": "[encoded data removed]",
      "text/plain": [
       "<Figure size 432x288 with 1 Axes>"
      ]
     },
     "metadata": {
      "needs_background": "light"
     },
     "output_type": "display_data"
    }
   ],
   "source": [
    "sns.violinplot(y=\"Admins served under\",x=\"approx # years by admin\",data=prosecutorsByAdmin,estimator=sum)\n",
    "# every service longer than 8 years is suspicous: likely data entry error "
   ]
  },
  {
   "cell_type": "code",
   "execution_count": 21,
   "metadata": {
    "jupyter": {
     "outputs_hidden": false
    }
   },
   "outputs": [
    {
     "data": {
      "text/html": [
       "<div>\n",
       "<style scoped>\n",
       "    .dataframe tbody tr th:only-of-type {\n",
       "        vertical-align: middle;\n",
       "    }\n",
       "\n",
       "    .dataframe tbody tr th {\n",
       "        vertical-align: top;\n",
       "    }\n",
       "\n",
       "    .dataframe thead th {\n",
       "        text-align: right;\n",
       "    }\n",
       "</style>\n",
       "<table border=\"1\" class=\"dataframe\">\n",
       "  <thead>\n",
       "    <tr style=\"text-align: right;\">\n",
       "      <th></th>\n",
       "      <th>First name</th>\n",
       "      <th>Last name</th>\n",
       "      <th>Highest DOJ title</th>\n",
       "      <th># years DOJ service</th>\n",
       "      <th>Admins served under</th>\n",
       "      <th>approx # years by admin</th>\n",
       "      <th>Party when started</th>\n",
       "    </tr>\n",
       "  </thead>\n",
       "  <tbody>\n",
       "  </tbody>\n",
       "</table>\n",
       "</div>"
      ],
      "text/plain": [
       "Empty DataFrame\n",
       "Columns: [First name, Last name, Highest DOJ title, # years DOJ service, Admins served under, approx # years by admin, Party when started]\n",
       "Index: []"
      ]
     },
     "execution_count": 21,
     "metadata": {},
     "output_type": "execute_result"
    }
   ],
   "source": [
    "prosecutorsByAdmin[prosecutorsByAdmin[\"approx # years by admin\"]>8]"
   ]
  },
  {
   "cell_type": "code",
   "execution_count": 22,
   "metadata": {
    "jupyter": {
     "outputs_hidden": false
    }
   },
   "outputs": [
    {
     "data": {
      "text/html": [
       "<div>\n",
       "<style scoped>\n",
       "    .dataframe tbody tr th:only-of-type {\n",
       "        vertical-align: middle;\n",
       "    }\n",
       "\n",
       "    .dataframe tbody tr th {\n",
       "        vertical-align: top;\n",
       "    }\n",
       "\n",
       "    .dataframe thead th {\n",
       "        text-align: right;\n",
       "    }\n",
       "</style>\n",
       "<table border=\"1\" class=\"dataframe\">\n",
       "  <thead>\n",
       "    <tr style=\"text-align: right;\">\n",
       "      <th></th>\n",
       "      <th>First name</th>\n",
       "      <th>Last name</th>\n",
       "      <th>Highest DOJ title</th>\n",
       "      <th># years DOJ service</th>\n",
       "      <th>Admins served under</th>\n",
       "      <th>approx # years by admin</th>\n",
       "      <th>Party when started</th>\n",
       "    </tr>\n",
       "  </thead>\n",
       "  <tbody>\n",
       "  </tbody>\n",
       "</table>\n",
       "</div>"
      ],
      "text/plain": [
       "Empty DataFrame\n",
       "Columns: [First name, Last name, Highest DOJ title, # years DOJ service, Admins served under, approx # years by admin, Party when started]\n",
       "Index: []"
      ]
     },
     "execution_count": 22,
     "metadata": {},
     "output_type": "execute_result"
    }
   ],
   "source": [
    "prosecutorsByAdmin[prosecutorsByAdmin[\"# years DOJ service\"]<0]"
   ]
  },
  {
   "cell_type": "code",
   "execution_count": 23,
   "metadata": {
    "jupyter": {
     "outputs_hidden": false
    }
   },
   "outputs": [
    {
     "data": {
      "image/png": "[encoded data removed]",
      "text/plain": [
       "<Figure size 432x288 with 1 Axes>"
      ]
     },
     "metadata": {
      "needs_background": "light"
     },
     "output_type": "display_data"
    }
   ],
   "source": [
    "ax = sns.barplot(y=\"Admins served under\",x=\"approx # years by admin\",data=prosecutorsByAdmin,estimator=sum)"
   ]
  },
  {
   "cell_type": "code",
   "execution_count": 24,
   "metadata": {
    "jupyter": {
     "outputs_hidden": false
    }
   },
   "outputs": [
    {
     "data": {
      "text/html": [
       "<div>\n",
       "<style scoped>\n",
       "    .dataframe tbody tr th:only-of-type {\n",
       "        vertical-align: middle;\n",
       "    }\n",
       "\n",
       "    .dataframe tbody tr th {\n",
       "        vertical-align: top;\n",
       "    }\n",
       "\n",
       "    .dataframe thead th {\n",
       "        text-align: right;\n",
       "    }\n",
       "</style>\n",
       "<table border=\"1\" class=\"dataframe\">\n",
       "  <thead>\n",
       "    <tr style=\"text-align: right;\">\n",
       "      <th></th>\n",
       "      <th>First name</th>\n",
       "      <th>Last name</th>\n",
       "      <th>Highest DOJ title</th>\n",
       "      <th># years DOJ service</th>\n",
       "      <th>Admins served under</th>\n",
       "      <th>approx # years by admin</th>\n",
       "      <th>Party when started</th>\n",
       "    </tr>\n",
       "  </thead>\n",
       "  <tbody>\n",
       "    <tr>\n",
       "      <td>3709</td>\n",
       "      <td>D. Patrick</td>\n",
       "      <td>Mullarkey</td>\n",
       "      <td>Acting Deputy Assistant Attorney General, Tax</td>\n",
       "      <td>52.0</td>\n",
       "      <td>Trump</td>\n",
       "      <td>2.3</td>\n",
       "      <td>D</td>\n",
       "    </tr>\n",
       "    <tr>\n",
       "      <td>3218</td>\n",
       "      <td>Stephen</td>\n",
       "      <td>Lyons</td>\n",
       "      <td>Senior Trial Attorney</td>\n",
       "      <td>51.0</td>\n",
       "      <td>Trump</td>\n",
       "      <td>2.3</td>\n",
       "      <td>D</td>\n",
       "    </tr>\n",
       "    <tr>\n",
       "      <td>1991</td>\n",
       "      <td>Mark</td>\n",
       "      <td>Gross</td>\n",
       "      <td>Deputy Chief, Appellate Section, Civil Rights ...</td>\n",
       "      <td>44.0</td>\n",
       "      <td>Trump</td>\n",
       "      <td>2.3</td>\n",
       "      <td>R</td>\n",
       "    </tr>\n",
       "    <tr>\n",
       "      <td>3117</td>\n",
       "      <td>Michael</td>\n",
       "      <td>Lindemann</td>\n",
       "      <td>Chief, National Security Unit</td>\n",
       "      <td>42.0</td>\n",
       "      <td>Trump</td>\n",
       "      <td>2.3</td>\n",
       "      <td>R</td>\n",
       "    </tr>\n",
       "    <tr>\n",
       "      <td>2820</td>\n",
       "      <td>John</td>\n",
       "      <td>Kolar</td>\n",
       "      <td>Senior Trial Counsel</td>\n",
       "      <td>41.0</td>\n",
       "      <td>Trump</td>\n",
       "      <td>2.3</td>\n",
       "      <td>R</td>\n",
       "    </tr>\n",
       "    <tr>\n",
       "      <td>...</td>\n",
       "      <td>...</td>\n",
       "      <td>...</td>\n",
       "      <td>...</td>\n",
       "      <td>...</td>\n",
       "      <td>...</td>\n",
       "      <td>...</td>\n",
       "      <td>...</td>\n",
       "    </tr>\n",
       "    <tr>\n",
       "      <td>3780</td>\n",
       "      <td>Erica</td>\n",
       "      <td>Newland</td>\n",
       "      <td>Attorney Advisor</td>\n",
       "      <td>2.0</td>\n",
       "      <td>Trump</td>\n",
       "      <td>1.0</td>\n",
       "      <td>D</td>\n",
       "    </tr>\n",
       "    <tr>\n",
       "      <td>4843</td>\n",
       "      <td>Ilyce</td>\n",
       "      <td>Shugall</td>\n",
       "      <td>Immigration Judge</td>\n",
       "      <td>1.5</td>\n",
       "      <td>Trump</td>\n",
       "      <td>1.5</td>\n",
       "      <td>R</td>\n",
       "    </tr>\n",
       "    <tr>\n",
       "      <td>5163</td>\n",
       "      <td>Nikhel</td>\n",
       "      <td>Sus</td>\n",
       "      <td>Trial Attorney, Civil Division, Federal Progra...</td>\n",
       "      <td>1.0</td>\n",
       "      <td>Trump</td>\n",
       "      <td>1.0</td>\n",
       "      <td>R</td>\n",
       "    </tr>\n",
       "    <tr>\n",
       "      <td>4063</td>\n",
       "      <td>Ashwin</td>\n",
       "      <td>Phatak</td>\n",
       "      <td>Attorney-Advisor</td>\n",
       "      <td>1.0</td>\n",
       "      <td>Trump</td>\n",
       "      <td>0.5</td>\n",
       "      <td>D</td>\n",
       "    </tr>\n",
       "    <tr>\n",
       "      <td>4196</td>\n",
       "      <td>Rizwan</td>\n",
       "      <td>Qureshi</td>\n",
       "      <td>Assistant United States Attorney</td>\n",
       "      <td>0.4</td>\n",
       "      <td>Trump</td>\n",
       "      <td>0.2</td>\n",
       "      <td>D</td>\n",
       "    </tr>\n",
       "  </tbody>\n",
       "</table>\n",
       "<p>219 rows × 7 columns</p>\n",
       "</div>"
      ],
      "text/plain": [
       "      First name  Last name  \\\n",
       "3709  D. Patrick  Mullarkey   \n",
       "3218     Stephen      Lyons   \n",
       "1991        Mark      Gross   \n",
       "3117     Michael  Lindemann   \n",
       "2820        John      Kolar   \n",
       "...          ...        ...   \n",
       "3780       Erica    Newland   \n",
       "4843       Ilyce    Shugall   \n",
       "5163      Nikhel        Sus   \n",
       "4063      Ashwin     Phatak   \n",
       "4196      Rizwan    Qureshi   \n",
       "\n",
       "                                      Highest DOJ title  # years DOJ service  \\\n",
       "3709      Acting Deputy Assistant Attorney General, Tax                 52.0   \n",
       "3218                              Senior Trial Attorney                 51.0   \n",
       "1991  Deputy Chief, Appellate Section, Civil Rights ...                 44.0   \n",
       "3117                      Chief, National Security Unit                 42.0   \n",
       "2820                               Senior Trial Counsel                 41.0   \n",
       "...                                                 ...                  ...   \n",
       "3780                                   Attorney Advisor                  2.0   \n",
       "4843                                  Immigration Judge                  1.5   \n",
       "5163  Trial Attorney, Civil Division, Federal Progra...                  1.0   \n",
       "4063                                   Attorney-Advisor                  1.0   \n",
       "4196                   Assistant United States Attorney                  0.4   \n",
       "\n",
       "     Admins served under  approx # years by admin Party when started  \n",
       "3709               Trump                      2.3                  D  \n",
       "3218               Trump                      2.3                  D  \n",
       "1991               Trump                      2.3                  R  \n",
       "3117               Trump                      2.3                  R  \n",
       "2820               Trump                      2.3                  R  \n",
       "...                  ...                      ...                ...  \n",
       "3780               Trump                      1.0                  D  \n",
       "4843               Trump                      1.5                  R  \n",
       "5163               Trump                      1.0                  R  \n",
       "4063               Trump                      0.5                  D  \n",
       "4196               Trump                      0.2                  D  \n",
       "\n",
       "[219 rows x 7 columns]"
      ]
     },
     "execution_count": 24,
     "metadata": {},
     "output_type": "execute_result"
    }
   ],
   "source": [
    "prosecutorsByAdmin[prosecutorsByAdmin[\"Admins served under\"]==\"Trump\"].sort_values([\"# years DOJ service\"],ascending =  False)"
   ]
  },
  {
   "cell_type": "code",
   "execution_count": 25,
   "metadata": {},
   "outputs": [],
   "source": [
    "prosecutorsObstruction = pd.read_excel(\"../data/FederalProsecutors.xls\")"
   ]
  },
  {
   "cell_type": "code",
   "execution_count": 26,
   "metadata": {},
   "outputs": [],
   "source": [
    "# drop the first row (David W. Mernitz does not have a valid value for years in DOJ service)\n",
    "prosecutorsObstruction = prosecutorsObstruction[1:]"
   ]
  },
  {
   "cell_type": "code",
   "execution_count": 27,
   "metadata": {},
   "outputs": [],
   "source": [
    "# replace semicolons with commas for seperating admins\n",
    "prosecutorsObstruction[\"Admins served under\"] = prosecutorsObstruction[\"Admins served under\"].str.replace(\";\",\",\")"
   ]
  },
  {
   "cell_type": "code",
   "execution_count": 28,
   "metadata": {},
   "outputs": [
    {
     "data": {
      "text/html": [
       "<div>\n",
       "<style scoped>\n",
       "    .dataframe tbody tr th:only-of-type {\n",
       "        vertical-align: middle;\n",
       "    }\n",
       "\n",
       "    .dataframe tbody tr th {\n",
       "        vertical-align: top;\n",
       "    }\n",
       "\n",
       "    .dataframe thead th {\n",
       "        text-align: right;\n",
       "    }\n",
       "</style>\n",
       "<table border=\"1\" class=\"dataframe\">\n",
       "  <thead>\n",
       "    <tr style=\"text-align: right;\">\n",
       "      <th></th>\n",
       "      <th># years DOJ service</th>\n",
       "    </tr>\n",
       "  </thead>\n",
       "  <tbody>\n",
       "    <tr>\n",
       "      <td>count</td>\n",
       "      <td>1026.000000</td>\n",
       "    </tr>\n",
       "    <tr>\n",
       "      <td>mean</td>\n",
       "      <td>12.459064</td>\n",
       "    </tr>\n",
       "    <tr>\n",
       "      <td>std</td>\n",
       "      <td>9.824783</td>\n",
       "    </tr>\n",
       "    <tr>\n",
       "      <td>min</td>\n",
       "      <td>1.000000</td>\n",
       "    </tr>\n",
       "    <tr>\n",
       "      <td>25%</td>\n",
       "      <td>5.000000</td>\n",
       "    </tr>\n",
       "    <tr>\n",
       "      <td>50%</td>\n",
       "      <td>8.000000</td>\n",
       "    </tr>\n",
       "    <tr>\n",
       "      <td>75%</td>\n",
       "      <td>18.000000</td>\n",
       "    </tr>\n",
       "    <tr>\n",
       "      <td>max</td>\n",
       "      <td>43.000000</td>\n",
       "    </tr>\n",
       "  </tbody>\n",
       "</table>\n",
       "</div>"
      ],
      "text/plain": [
       "       # years DOJ service\n",
       "count          1026.000000\n",
       "mean             12.459064\n",
       "std               9.824783\n",
       "min               1.000000\n",
       "25%               5.000000\n",
       "50%               8.000000\n",
       "75%              18.000000\n",
       "max              43.000000"
      ]
     },
     "execution_count": 28,
     "metadata": {},
     "output_type": "execute_result"
    }
   ],
   "source": [
    "prosecutorsObstruction.describe()"
   ]
  },
  {
   "cell_type": "code",
   "execution_count": 29,
   "metadata": {},
   "outputs": [],
   "source": [
    "intersection = pd.merge(prosecutorsObstruction,prosecutors, how='inner', on=['Last name', 'First name'])"
   ]
  },
  {
   "cell_type": "code",
   "execution_count": 30,
   "metadata": {},
   "outputs": [
    {
     "data": {
      "text/html": [
       "<div>\n",
       "<style scoped>\n",
       "    .dataframe tbody tr th:only-of-type {\n",
       "        vertical-align: middle;\n",
       "    }\n",
       "\n",
       "    .dataframe tbody tr th {\n",
       "        vertical-align: top;\n",
       "    }\n",
       "\n",
       "    .dataframe thead th {\n",
       "        text-align: right;\n",
       "    }\n",
       "</style>\n",
       "<table border=\"1\" class=\"dataframe\">\n",
       "  <thead>\n",
       "    <tr style=\"text-align: right;\">\n",
       "      <th></th>\n",
       "      <th>First name</th>\n",
       "      <th>Last name</th>\n",
       "      <th>Highest DOJ title_x</th>\n",
       "      <th># years DOJ service_x</th>\n",
       "      <th>Admins served under_x</th>\n",
       "      <th>Highest DOJ title_y</th>\n",
       "      <th># years DOJ service_y</th>\n",
       "      <th>Admins served under_y</th>\n",
       "    </tr>\n",
       "  </thead>\n",
       "  <tbody>\n",
       "    <tr>\n",
       "      <td>0</td>\n",
       "      <td>Frederick</td>\n",
       "      <td>Hess</td>\n",
       "      <td>Director Office of Enforcement Operations, Cri...</td>\n",
       "      <td>43.0</td>\n",
       "      <td>Obama, Bush II, Clinton, Bush I, Reagan, Carte...</td>\n",
       "      <td>Director, Office of Enforcement Operations, Cr...</td>\n",
       "      <td>43.0</td>\n",
       "      <td>Obama, Bush II, Clinton, Bush I, Reagan, Carte...</td>\n",
       "    </tr>\n",
       "    <tr>\n",
       "      <td>1</td>\n",
       "      <td>Gary</td>\n",
       "      <td>Shapiro</td>\n",
       "      <td>Interim United States Attorney, Northern Distr...</td>\n",
       "      <td>42.0</td>\n",
       "      <td>Obama, Bush II, Clinton, Bush I, Reagan, Carte...</td>\n",
       "      <td>Interim United States Attorney</td>\n",
       "      <td>42.0</td>\n",
       "      <td>Obama, Bush II, Clinton, Bush I, Reagan, Carte...</td>\n",
       "    </tr>\n",
       "    <tr>\n",
       "      <td>2</td>\n",
       "      <td>John</td>\n",
       "      <td>Kolar</td>\n",
       "      <td>Senior Trial Counsel</td>\n",
       "      <td>41.0</td>\n",
       "      <td>Trump,Obama,Bush II,Clinton,Bush I,Reagan,Cart...</td>\n",
       "      <td>Senior Trial Counsel</td>\n",
       "      <td>41.0</td>\n",
       "      <td>Trump, Obama, Bush II, Clinton, Bush I, Reagan...</td>\n",
       "    </tr>\n",
       "    <tr>\n",
       "      <td>3</td>\n",
       "      <td>Gerald</td>\n",
       "      <td>Kaminski</td>\n",
       "      <td>Deputy Civil Chief</td>\n",
       "      <td>40.0</td>\n",
       "      <td>Obama, Bush II, Clinton, Bush I, Reagan, Carte...</td>\n",
       "      <td>Deputy Civil Division Chief</td>\n",
       "      <td>40.0</td>\n",
       "      <td>Obama, Bush II, Clinton, Bush I, Reagan, Carte...</td>\n",
       "    </tr>\n",
       "    <tr>\n",
       "      <td>4</td>\n",
       "      <td>Judith</td>\n",
       "      <td>Rabinowitz</td>\n",
       "      <td>Assistant Director</td>\n",
       "      <td>38.5</td>\n",
       "      <td>Obama, Bush II, Clinton, Bush I, Reagan, Carter</td>\n",
       "      <td>Assistant Director, Civil Division</td>\n",
       "      <td>38.5</td>\n",
       "      <td>Trump, Obama, Bush II, Clinton, Bush I, Reagan...</td>\n",
       "    </tr>\n",
       "    <tr>\n",
       "      <td>...</td>\n",
       "      <td>...</td>\n",
       "      <td>...</td>\n",
       "      <td>...</td>\n",
       "      <td>...</td>\n",
       "      <td>...</td>\n",
       "      <td>...</td>\n",
       "      <td>...</td>\n",
       "      <td>...</td>\n",
       "    </tr>\n",
       "    <tr>\n",
       "      <td>569</td>\n",
       "      <td>John</td>\n",
       "      <td>Edwards</td>\n",
       "      <td>United States Attorney for the Western Distric...</td>\n",
       "      <td>1.5</td>\n",
       "      <td>Reagan, Carter</td>\n",
       "      <td>United States Attorney for the Western Distric...</td>\n",
       "      <td>2.0</td>\n",
       "      <td>Reagan, Carter</td>\n",
       "    </tr>\n",
       "    <tr>\n",
       "      <td>570</td>\n",
       "      <td>Robert</td>\n",
       "      <td>Martin</td>\n",
       "      <td>Special Assistant United States Attorney</td>\n",
       "      <td>1.0</td>\n",
       "      <td>Reagan</td>\n",
       "      <td>Special Assistant United States Attorney</td>\n",
       "      <td>1.0</td>\n",
       "      <td>Reagan</td>\n",
       "    </tr>\n",
       "    <tr>\n",
       "      <td>571</td>\n",
       "      <td>Charles</td>\n",
       "      <td>Carnese</td>\n",
       "      <td>Assistant U.S. Attorney</td>\n",
       "      <td>1.0</td>\n",
       "      <td>Ford</td>\n",
       "      <td>Assistant United States Attorney</td>\n",
       "      <td>3.0</td>\n",
       "      <td>Ford, Nixon</td>\n",
       "    </tr>\n",
       "    <tr>\n",
       "      <td>572</td>\n",
       "      <td>Albert</td>\n",
       "      <td>Alschuler</td>\n",
       "      <td>Special Assistant to the Assistant Attorney Ge...</td>\n",
       "      <td>1.0</td>\n",
       "      <td>Johnson</td>\n",
       "      <td>Special Assistant to the Assistant Attorney Ge...</td>\n",
       "      <td>1.0</td>\n",
       "      <td>Johnson</td>\n",
       "    </tr>\n",
       "    <tr>\n",
       "      <td>573</td>\n",
       "      <td>Joseph</td>\n",
       "      <td>Turner</td>\n",
       "      <td>Assistant United States attorney</td>\n",
       "      <td>1.0</td>\n",
       "      <td>Reagan</td>\n",
       "      <td>Assistant United States Attorney</td>\n",
       "      <td>1.0</td>\n",
       "      <td>Reagan</td>\n",
       "    </tr>\n",
       "  </tbody>\n",
       "</table>\n",
       "<p>574 rows × 8 columns</p>\n",
       "</div>"
      ],
      "text/plain": [
       "    First name   Last name                                Highest DOJ title_x  \\\n",
       "0    Frederick        Hess  Director Office of Enforcement Operations, Cri...   \n",
       "1         Gary     Shapiro  Interim United States Attorney, Northern Distr...   \n",
       "2         John       Kolar                               Senior Trial Counsel   \n",
       "3       Gerald    Kaminski                                 Deputy Civil Chief   \n",
       "4       Judith  Rabinowitz                                 Assistant Director   \n",
       "..         ...         ...                                                ...   \n",
       "569       John     Edwards  United States Attorney for the Western Distric...   \n",
       "570     Robert      Martin           Special Assistant United States Attorney   \n",
       "571    Charles     Carnese                            Assistant U.S. Attorney   \n",
       "572     Albert   Alschuler  Special Assistant to the Assistant Attorney Ge...   \n",
       "573     Joseph      Turner                   Assistant United States attorney   \n",
       "\n",
       "     # years DOJ service_x                              Admins served under_x  \\\n",
       "0                     43.0  Obama, Bush II, Clinton, Bush I, Reagan, Carte...   \n",
       "1                     42.0  Obama, Bush II, Clinton, Bush I, Reagan, Carte...   \n",
       "2                     41.0  Trump,Obama,Bush II,Clinton,Bush I,Reagan,Cart...   \n",
       "3                     40.0  Obama, Bush II, Clinton, Bush I, Reagan, Carte...   \n",
       "4                     38.5    Obama, Bush II, Clinton, Bush I, Reagan, Carter   \n",
       "..                     ...                                                ...   \n",
       "569                    1.5                                     Reagan, Carter   \n",
       "570                    1.0                                             Reagan   \n",
       "571                    1.0                                               Ford   \n",
       "572                    1.0                                            Johnson   \n",
       "573                    1.0                                             Reagan   \n",
       "\n",
       "                                   Highest DOJ title_y  # years DOJ service_y  \\\n",
       "0    Director, Office of Enforcement Operations, Cr...                   43.0   \n",
       "1                       Interim United States Attorney                   42.0   \n",
       "2                                 Senior Trial Counsel                   41.0   \n",
       "3                          Deputy Civil Division Chief                   40.0   \n",
       "4                   Assistant Director, Civil Division                   38.5   \n",
       "..                                                 ...                    ...   \n",
       "569  United States Attorney for the Western Distric...                    2.0   \n",
       "570           Special Assistant United States Attorney                    1.0   \n",
       "571                   Assistant United States Attorney                    3.0   \n",
       "572  Special Assistant to the Assistant Attorney Ge...                    1.0   \n",
       "573                   Assistant United States Attorney                    1.0   \n",
       "\n",
       "                                 Admins served under_y  \n",
       "0    Obama, Bush II, Clinton, Bush I, Reagan, Carte...  \n",
       "1    Obama, Bush II, Clinton, Bush I, Reagan, Carte...  \n",
       "2    Trump, Obama, Bush II, Clinton, Bush I, Reagan...  \n",
       "3    Obama, Bush II, Clinton, Bush I, Reagan, Carte...  \n",
       "4    Trump, Obama, Bush II, Clinton, Bush I, Reagan...  \n",
       "..                                                 ...  \n",
       "569                                     Reagan, Carter  \n",
       "570                                             Reagan  \n",
       "571                                        Ford, Nixon  \n",
       "572                                            Johnson  \n",
       "573                                             Reagan  \n",
       "\n",
       "[574 rows x 8 columns]"
      ]
     },
     "execution_count": 30,
     "metadata": {},
     "output_type": "execute_result"
    }
   ],
   "source": [
    "intersection"
   ]
  },
  {
   "cell_type": "code",
   "execution_count": null,
   "metadata": {},
   "outputs": [],
   "source": []
  },
  {
   "cell_type": "code",
   "execution_count": null,
   "metadata": {},
   "outputs": [],
   "source": []
  }
 ],
 "metadata": {
  "anaconda-cloud": {},
  "kernelspec": {
   "display_name": "Python [conda env:root] *",
   "language": "python",
   "name": "conda-root-py"
  },
  "language_info": {
   "codemirror_mode": {
    "name": "ipython",
    "version": 3
   },
   "file_extension": ".py",
   "mimetype": "text/x-python",
   "name": "python",
   "nbconvert_exporter": "python",
   "pygments_lexer": "ipython3",
   "version": "3.7.4"
  }
 },
 "nbformat": 4,
 "nbformat_minor": 4
}
